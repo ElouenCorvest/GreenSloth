{
 "cells": [
  {
   "cell_type": "code",
   "execution_count": 1,
   "metadata": {},
   "outputs": [
    {
     "name": "stdout",
     "output_type": "stream",
     "text": [
      "1.3.5\n"
     ]
    }
   ],
   "source": [
    "import numpy as np\n",
    "import pandas as pd\n",
    "# %matplotlib qt\n",
    "import matplotlib.pyplot as plt\n",
    "from tqdm.notebook import tqdm\n",
    "\n",
    "import modelbase\n",
    "from modelbase.ode import Simulator\n",
    "\n",
    "from scipy import integrate\n",
    "\n",
    "plt.style.use(\"./notebook.mplstyle\")\n",
    "print(modelbase.__version__)"
   ]
  },
  {
   "cell_type": "code",
   "execution_count": 2,
   "metadata": {},
   "outputs": [],
   "source": [
    "%%capture\n",
    "cd .."
   ]
  },
  {
   "cell_type": "code",
   "execution_count": 3,
   "metadata": {},
   "outputs": [],
   "source": [
    "from models import get_model\n",
    "\n",
    "\n",
    "m = get_model()\n",
    "\n",
    "par_orig = m.get_parameters()\n",
    "\n",
    "def get_new_y0(s):\n",
    "    return dict(s.get_results_df().iloc[-1])"
   ]
  },
  {
   "cell_type": "code",
   "execution_count": 4,
   "metadata": {},
   "outputs": [],
   "source": [
    "y0 = {\n",
    "    \"PQ\": 11.027139850905353,\n",
    "    \"PC\": 1.8895071932002812,\n",
    "    \"Fd\": 3.8690237263896705,\n",
    "    \"ATP\": 1.620195002854852,\n",
    "    \"NADPH\": 0.4882103700673736,\n",
    "    \"H\": 0.0022147075094596015,\n",
    "    \"LHC\": 0.8023074419510501,\n",
    "    \"Psbs\": 0.9607146039898598,\n",
    "    \"Vx\": 0.950783616933656,\n",
    "    \"PGA\": 0.9913970817549008,\n",
    "    \"BPGA\": 0.0005355311557548053,\n",
    "    \"GAP\": 0.0062630116252017295,\n",
    "    \"DHAP\": 0.13778623933075737,\n",
    "    \"FBP\": 0.006126990841013743,\n",
    "    \"F6P\": 0.31166103888161867,\n",
    "    \"G6P\": 0.7168203893211117,\n",
    "    \"G1P\": 0.041575582577936025,\n",
    "    \"SBP\": 0.01311315151803723,\n",
    "    \"S7P\": 0.15782894767619207,\n",
    "    \"E4P\": 0.00732079113061801,\n",
    "    \"X5P\": 0.022396849486562384,\n",
    "    \"R5P\": 0.03751472214765548,\n",
    "    \"RUBP\": 0.13153657267999222,\n",
    "    \"RU5P\": 0.015005888732707041,\n",
    "    \"MDA\": 5.85270097771621e-06,\n",
    "    \"ASC\": 9.999994138785292,\n",
    "    \"H2O2\": 3.4273920330125316e-06,\n",
    "    \"DHA\": 8.513863740903352e-09,\n",
    "    \"GSH\": 9.999999991725186,\n",
    "    \"GSSG\": 4.137406632226743e-09,\n",
    "    \"TR_ox\": 0.9,\n",
    "    \"E_inactive\": 4.7368421052631575,\n",
    "}\n",
    "\n",
    "y0_1000 = {\n",
    "    \"PQ\": 1.507789886702025,\n",
    "    \"PC\": 3.953187158958296,\n",
    "    \"Fd\": 1.1279937081043432,\n",
    "    \"ATP\": 2.400518163834891,\n",
    "    \"NADPH\": 0.7833511016622213,\n",
    "    \"H\": 11.834462552026038,\n",
    "    \"LHC\": 0.3057293990674661,\n",
    "    \"Psbs\": 0.5000000000384304,\n",
    "    \"Vx\": 0.09090909091242916,\n",
    "    \"PGA\": 0.04883787233687633,\n",
    "    \"BPGA\": 0.0002431280086079331,\n",
    "    \"GAP\": 0.019630698252342628,\n",
    "    \"DHAP\": 0.43187533951527735,\n",
    "    \"FBP\": 0.06019389866167178,\n",
    "    \"F6P\": 2.6879366796632724,\n",
    "    \"G6P\": 6.1822543628081625,\n",
    "    \"G1P\": 0.35857075303234864,\n",
    "    \"SBP\": 1.1860893478540198,\n",
    "    \"S7P\": 0.044187268369558365,\n",
    "    \"E4P\": 0.2112592088267863,\n",
    "    \"X5P\": 0.02098062469006194,\n",
    "    \"R5P\": 0.035142545427180046,\n",
    "    \"RUBP\": 0.37432944394392,\n",
    "    \"RU5P\": 0.0140570180127999,\n",
    "    \"MDA\": 0.009653405870311431,\n",
    "    \"ASC\": 9.959784342928879,\n",
    "    \"H2O2\": 0.0008037536118780133,\n",
    "    \"DHA\": 0.030562251200941273,\n",
    "    \"GSH\": 9.976204054020393,\n",
    "    \"GSSG\": 0.011897972989793133,\n",
    "        \"TR_ox\": 0.9,\n",
    "    \"E_inactive\": 4.7368421052631575,\n",
    "}"
   ]
  },
  {
   "cell_type": "code",
   "execution_count": 5,
   "metadata": {
    "scrolled": true
   },
   "outputs": [],
   "source": [
    "s = Simulator(m)\n",
    "s.initialise(y0)\n",
    "#s.initialise(y0_1000)\n",
    "\n",
    "\n",
    "pfd=1000\n",
    "#fcbb=4\n",
    "\n",
    "\n",
    "#s.update_parameter(\"kMehler\", 1.)\n",
    "\n",
    "#s.update_parameter(\"fCBB\", fcbb)\n",
    "s.update_parameter(\"pfd\", pfd)\n",
    "\n",
    "\n",
    "#t, y = s.simulate(5000)\n",
    "s.simulate_to_steady_state()\n",
    "yref = dict(s.get_results_df().iloc[-1,:])\n"
   ]
  },
  {
   "cell_type": "code",
   "execution_count": null,
   "metadata": {},
   "outputs": [],
   "source": []
  },
  {
   "cell_type": "code",
   "execution_count": null,
   "metadata": {},
   "outputs": [],
   "source": []
  },
  {
   "cell_type": "code",
   "execution_count": null,
   "metadata": {},
   "outputs": [],
   "source": []
  },
  {
   "cell_type": "code",
   "execution_count": null,
   "metadata": {},
   "outputs": [],
   "source": []
  },
  {
   "cell_type": "code",
   "execution_count": 6,
   "metadata": {},
   "outputs": [],
   "source": [
    "def response_coefficients(s, parname, var=0.01):\n",
    "    porig = s.model.get_parameter(parname)\n",
    "    \n",
    "    s.simulate_to_steady_state()\n",
    "    ynorm = s.get_full_results_df().iloc[-1,:]\n",
    "    yref = dict(s.get_results_df().iloc[-1,:])\n",
    "    vnorm = s.get_fluxes_df().iloc[-1,:]\n",
    "        \n",
    "    s.update_parameter(parname, porig*(1+var))\n",
    "    s.initialise(yref)\n",
    "    s.simulate_to_steady_state()\n",
    "    yb = s.get_full_results_df().iloc[-1,:]\n",
    "    vb = s.get_fluxes_df().iloc[-1,:]\n",
    "    \n",
    "    s.update_parameter(parname, porig*(1-var))\n",
    "    s.initialise(yref)\n",
    "    s.simulate_to_steady_state()\n",
    "    ya = s.get_full_results_df().iloc[-1,:]\n",
    "    va = s.get_fluxes_df().iloc[-1,:]\n",
    "    \n",
    "    s.update_parameter(parname, porig)\n",
    "    \n",
    "    crc = (yb - ya) / ynorm / (2*var)\n",
    "    frc = (vb - va) / vnorm / (2*var)\n",
    "    \n",
    "    return crc, frc"
   ]
  },
  {
   "cell_type": "code",
   "execution_count": 7,
   "metadata": {},
   "outputs": [],
   "source": [
    "from matplotlib import colors\n",
    "\n",
    "\n",
    "class MidpointNormalize(colors.Normalize):\n",
    "\t\"\"\"\n",
    "\tNormalise the colorbar so that diverging bars work there way either side from a prescribed midpoint value)\n",
    "\n",
    "\te.g. im=ax1.imshow(array, norm=MidpointNormalize(midpoint=0.,vmin=-100, vmax=100))\n",
    "\t\"\"\"\n",
    "\tdef __init__(self, vmin=None, vmax=None, midpoint=None, clip=False):\n",
    "\t\tself.midpoint = midpoint\n",
    "\t\tcolors.Normalize.__init__(self, vmin, vmax, clip)\n",
    "\n",
    "\tdef __call__(self, value, clip=None):\n",
    "\t\t# I'm ignoring masked values and all kinds of edge cases to make a\n",
    "\t\t# simple example...\n",
    "\t\tx, y = [self.vmin, self.midpoint, self.vmax], [0, 0.5, 1]\n",
    "\t\treturn np.ma.masked_array(np.interp(value, x, y), np.isnan(value))"
   ]
  },
  {
   "cell_type": "code",
   "execution_count": 8,
   "metadata": {},
   "outputs": [],
   "source": [
    "scanpars=['PSIItot','PSItot','kCytb6f','kcyc','kMehler','V1_base','V6_base','V9_base','kcat_DHAR','kcatMDAR']\n",
    "\n",
    "scanparnames = [\"PS2\",\"PS1\",\"b$_6$f\",\"PGR5\",\"Mehler\",\"RuBisCO\",\"FBPase\",\"SBPase\",\"MDAR\",\"DHAR\"]\n",
    "\n",
    "freadouts=['vPS2','vPS1','vB6f','vMehler','vCyc','vRuBisCO','vFBPase','v9','vMDAreduct','vDHAR']\n",
    "\n",
    "freadoutnames=[\"PS2\",\"PS1\",\"b$_6$f\",\"Mehler\",\"CEF\",\"RuBisCO\",\"FBPase\",\"SBPase\",\"MDAR\",\"DHAR\"]\n"
   ]
  },
  {
   "cell_type": "markdown",
   "metadata": {},
   "source": [
    "### control coefficients for high light (PPFD=1000)"
   ]
  },
  {
   "cell_type": "code",
   "execution_count": 47,
   "metadata": {},
   "outputs": [],
   "source": [
    "m=get_model()\n",
    "s=Simulator(m)\n",
    "s.initialise(yref)\n",
    "s.update_parameter(\"pfd\",1000)"
   ]
  },
  {
   "cell_type": "code",
   "execution_count": 48,
   "metadata": {},
   "outputs": [
    {
     "data": {
      "application/vnd.jupyter.widget-view+json": {
       "model_id": "7ea05056daf948ccbd19bfba65941ca5",
       "version_major": 2,
       "version_minor": 0
      },
      "text/plain": [
       "  0%|          | 0/10 [00:00<?, ?it/s]"
      ]
     },
     "metadata": {},
     "output_type": "display_data"
    }
   ],
   "source": [
    "fccdict = {}\n",
    "cccdict = {}\n",
    "for p in tqdm(scanpars, total=len(scanpars)):\n",
    "    crc, frc = response_coefficients(s,p)\n",
    "    fccdict[p] = frc\n",
    "    cccdict[p] = crc\n",
    "\n",
    "fcc = pd.DataFrame(fccdict)\n",
    "ccc = pd.DataFrame(cccdict)"
   ]
  },
  {
   "cell_type": "code",
   "execution_count": 49,
   "metadata": {
    "scrolled": true
   },
   "outputs": [
    {
     "data": {
      "text/html": [
       "<div>\n",
       "<style scoped>\n",
       "    .dataframe tbody tr th:only-of-type {\n",
       "        vertical-align: middle;\n",
       "    }\n",
       "\n",
       "    .dataframe tbody tr th {\n",
       "        vertical-align: top;\n",
       "    }\n",
       "\n",
       "    .dataframe thead th {\n",
       "        text-align: right;\n",
       "    }\n",
       "</style>\n",
       "<table border=\"1\" class=\"dataframe\">\n",
       "  <thead>\n",
       "    <tr style=\"text-align: right;\">\n",
       "      <th></th>\n",
       "      <th>PSIItot</th>\n",
       "      <th>PSItot</th>\n",
       "      <th>kCytb6f</th>\n",
       "      <th>kcyc</th>\n",
       "      <th>kMehler</th>\n",
       "      <th>V1_base</th>\n",
       "      <th>V6_base</th>\n",
       "      <th>V9_base</th>\n",
       "      <th>kcat_DHAR</th>\n",
       "      <th>kcatMDAR</th>\n",
       "    </tr>\n",
       "  </thead>\n",
       "  <tbody>\n",
       "    <tr>\n",
       "      <th>vPS2</th>\n",
       "      <td>0.208539</td>\n",
       "      <td>0.015003</td>\n",
       "      <td>0.031582</td>\n",
       "      <td>-0.125313</td>\n",
       "      <td>0.000404</td>\n",
       "      <td>0.030913</td>\n",
       "      <td>-0.056258</td>\n",
       "      <td>0.735152</td>\n",
       "      <td>2.180225e-13</td>\n",
       "      <td>2.814671e-11</td>\n",
       "    </tr>\n",
       "    <tr>\n",
       "      <th>vPS1</th>\n",
       "      <td>0.225537</td>\n",
       "      <td>0.037925</td>\n",
       "      <td>0.090182</td>\n",
       "      <td>-0.095347</td>\n",
       "      <td>-0.001458</td>\n",
       "      <td>0.025969</td>\n",
       "      <td>-0.043170</td>\n",
       "      <td>0.614350</td>\n",
       "      <td>2.098481e-13</td>\n",
       "      <td>2.820036e-11</td>\n",
       "    </tr>\n",
       "    <tr>\n",
       "      <th>vB6f</th>\n",
       "      <td>0.225537</td>\n",
       "      <td>0.037925</td>\n",
       "      <td>0.090182</td>\n",
       "      <td>-0.095347</td>\n",
       "      <td>-0.001458</td>\n",
       "      <td>0.025969</td>\n",
       "      <td>-0.043170</td>\n",
       "      <td>0.614350</td>\n",
       "      <td>2.179192e-13</td>\n",
       "      <td>2.820036e-11</td>\n",
       "    </tr>\n",
       "    <tr>\n",
       "      <th>vMehler</th>\n",
       "      <td>2.620884</td>\n",
       "      <td>1.994023</td>\n",
       "      <td>0.286100</td>\n",
       "      <td>-1.365481</td>\n",
       "      <td>0.988002</td>\n",
       "      <td>-0.092943</td>\n",
       "      <td>0.193629</td>\n",
       "      <td>-2.226095</td>\n",
       "      <td>2.059307e-12</td>\n",
       "      <td>2.362844e-10</td>\n",
       "    </tr>\n",
       "    <tr>\n",
       "      <th>vCyc</th>\n",
       "      <td>0.278158</td>\n",
       "      <td>0.102233</td>\n",
       "      <td>0.254703</td>\n",
       "      <td>-0.008748</td>\n",
       "      <td>-0.006709</td>\n",
       "      <td>0.011502</td>\n",
       "      <td>-0.005319</td>\n",
       "      <td>0.261218</td>\n",
       "      <td>2.233490e-13</td>\n",
       "      <td>2.891985e-11</td>\n",
       "    </tr>\n",
       "    <tr>\n",
       "      <th>vRuBisCO</th>\n",
       "      <td>0.198360</td>\n",
       "      <td>0.011796</td>\n",
       "      <td>0.030645</td>\n",
       "      <td>-0.121256</td>\n",
       "      <td>-0.001071</td>\n",
       "      <td>0.031746</td>\n",
       "      <td>-0.056403</td>\n",
       "      <td>0.790968</td>\n",
       "      <td>2.126749e-13</td>\n",
       "      <td>2.665880e-11</td>\n",
       "    </tr>\n",
       "    <tr>\n",
       "      <th>vFBPase</th>\n",
       "      <td>0.213420</td>\n",
       "      <td>0.012693</td>\n",
       "      <td>0.032972</td>\n",
       "      <td>-0.130462</td>\n",
       "      <td>-0.001152</td>\n",
       "      <td>0.034641</td>\n",
       "      <td>-0.040953</td>\n",
       "      <td>0.783836</td>\n",
       "      <td>2.376633e-13</td>\n",
       "      <td>2.870972e-11</td>\n",
       "    </tr>\n",
       "    <tr>\n",
       "      <th>v9</th>\n",
       "      <td>0.198360</td>\n",
       "      <td>0.011796</td>\n",
       "      <td>0.030645</td>\n",
       "      <td>-0.121256</td>\n",
       "      <td>-0.001071</td>\n",
       "      <td>0.031746</td>\n",
       "      <td>-0.056403</td>\n",
       "      <td>0.790968</td>\n",
       "      <td>2.233087e-13</td>\n",
       "      <td>2.666146e-11</td>\n",
       "    </tr>\n",
       "    <tr>\n",
       "      <th>vMDAreduct</th>\n",
       "      <td>2.620816</td>\n",
       "      <td>1.993971</td>\n",
       "      <td>0.286093</td>\n",
       "      <td>-1.365446</td>\n",
       "      <td>0.987976</td>\n",
       "      <td>-0.092941</td>\n",
       "      <td>0.193624</td>\n",
       "      <td>-2.226038</td>\n",
       "      <td>2.062396e-12</td>\n",
       "      <td>5.123391e-05</td>\n",
       "    </tr>\n",
       "    <tr>\n",
       "      <th>vDHAR</th>\n",
       "      <td>5.302231</td>\n",
       "      <td>4.045676</td>\n",
       "      <td>0.577588</td>\n",
       "      <td>-2.760522</td>\n",
       "      <td>2.005217</td>\n",
       "      <td>-0.187880</td>\n",
       "      <td>0.391365</td>\n",
       "      <td>-4.497221</td>\n",
       "      <td>8.473245e-12</td>\n",
       "      <td>-2.029825e+00</td>\n",
       "    </tr>\n",
       "  </tbody>\n",
       "</table>\n",
       "</div>"
      ],
      "text/plain": [
       "             PSIItot    PSItot   kCytb6f      kcyc   kMehler   V1_base  \\\n",
       "vPS2        0.208539  0.015003  0.031582 -0.125313  0.000404  0.030913   \n",
       "vPS1        0.225537  0.037925  0.090182 -0.095347 -0.001458  0.025969   \n",
       "vB6f        0.225537  0.037925  0.090182 -0.095347 -0.001458  0.025969   \n",
       "vMehler     2.620884  1.994023  0.286100 -1.365481  0.988002 -0.092943   \n",
       "vCyc        0.278158  0.102233  0.254703 -0.008748 -0.006709  0.011502   \n",
       "vRuBisCO    0.198360  0.011796  0.030645 -0.121256 -0.001071  0.031746   \n",
       "vFBPase     0.213420  0.012693  0.032972 -0.130462 -0.001152  0.034641   \n",
       "v9          0.198360  0.011796  0.030645 -0.121256 -0.001071  0.031746   \n",
       "vMDAreduct  2.620816  1.993971  0.286093 -1.365446  0.987976 -0.092941   \n",
       "vDHAR       5.302231  4.045676  0.577588 -2.760522  2.005217 -0.187880   \n",
       "\n",
       "             V6_base   V9_base     kcat_DHAR      kcatMDAR  \n",
       "vPS2       -0.056258  0.735152  2.180225e-13  2.814671e-11  \n",
       "vPS1       -0.043170  0.614350  2.098481e-13  2.820036e-11  \n",
       "vB6f       -0.043170  0.614350  2.179192e-13  2.820036e-11  \n",
       "vMehler     0.193629 -2.226095  2.059307e-12  2.362844e-10  \n",
       "vCyc       -0.005319  0.261218  2.233490e-13  2.891985e-11  \n",
       "vRuBisCO   -0.056403  0.790968  2.126749e-13  2.665880e-11  \n",
       "vFBPase    -0.040953  0.783836  2.376633e-13  2.870972e-11  \n",
       "v9         -0.056403  0.790968  2.233087e-13  2.666146e-11  \n",
       "vMDAreduct  0.193624 -2.226038  2.062396e-12  5.123391e-05  \n",
       "vDHAR       0.391365 -4.497221  8.473245e-12 -2.029825e+00  "
      ]
     },
     "execution_count": 49,
     "metadata": {},
     "output_type": "execute_result"
    }
   ],
   "source": [
    "fcc.loc[freadouts,scanpars]"
   ]
  },
  {
   "cell_type": "code",
   "execution_count": 50,
   "metadata": {},
   "outputs": [
    {
     "data": {
      "text/plain": [
       "5.302231102632746"
      ]
     },
     "execution_count": 50,
     "metadata": {},
     "output_type": "execute_result"
    }
   ],
   "source": [
    "data = np.array(fcc.loc[freadouts,scanpars])\n",
    "data.max()"
   ]
  },
  {
   "cell_type": "code",
   "execution_count": 51,
   "metadata": {},
   "outputs": [
    {
     "data": {
      "image/png": "[encoded data removed]",
      "text/plain": [
       "<Figure size 864x576 with 2 Axes>"
      ]
     },
     "metadata": {
      "needs_background": "light"
     },
     "output_type": "display_data"
    }
   ],
   "source": [
    "fsize = 16\n",
    "\n",
    "elev_min=data.min()\n",
    "elev_max=data.max()\n",
    "mid_val=0\n",
    "\n",
    "#plt.grid(None)\n",
    "\n",
    "fig, ax = plt.subplots(figsize=(12,8))\n",
    "ax.grid(None)\n",
    "im = ax.imshow(data,interpolation='nearest', aspect='auto', cmap='RdBu_r',clim=(elev_min, elev_max), norm=MidpointNormalize(midpoint=mid_val,vmin=elev_min, vmax=elev_max))\n",
    "\n",
    "# We want to show all ticks...\n",
    "ax.set_xticks(np.arange(len(scanparnames)))\n",
    "ax.set_yticks(np.arange(len(freadoutnames)))\n",
    "# ... and label them with the respective list entries\n",
    "ax.set_xticklabels(scanparnames,fontsize=fsize,rotation=90)\n",
    "ax.set_yticklabels(freadoutnames,fontsize=fsize)\n",
    "cbar = fig.colorbar(im,ax=ax,label='Flux Control Coefficient')\n",
    "#plt.savefig(\"Users/nima/FCC.svg\")\n",
    "\n",
    "cbar.ax.tick_params(labelsize=fsize)\n",
    "cbar.set_label(label=\"Flux Control Coefficient\", fontsize=fsize)\n",
    "\n",
    "#plt.show()"
   ]
  },
  {
   "cell_type": "code",
   "execution_count": 52,
   "metadata": {},
   "outputs": [],
   "source": [
    "fig.savefig(\"FCC1000.eps\")"
   ]
  },
  {
   "cell_type": "code",
   "execution_count": 53,
   "metadata": {},
   "outputs": [],
   "source": [
    "creadouts=[\"PQ_redoxstate\",\"Fd_redoxstate\",\"PC_redoxstate\",\"NADP_redoxstate\",\"ATP_norm\",\"RUBP\",\"PGA\",\"FBP\",\"SBP\"]\n",
    "creadoutnames=[\"PQ$_\\mathrm{red}$\",\"Fd$_\\mathrm{red}$\",\"PC$_\\mathrm{red}$\",\"NADPH\",\"ATP\",\"RUBP\",\"PGA\",\"FBP\",\"SBP\"]"
   ]
  },
  {
   "cell_type": "code",
   "execution_count": 54,
   "metadata": {},
   "outputs": [
    {
     "data": {
      "text/plain": [
       "-1.8883159867209547"
      ]
     },
     "execution_count": 54,
     "metadata": {},
     "output_type": "execute_result"
    }
   ],
   "source": [
    "cdata = np.array(ccc.loc[creadouts,scanpars])\n",
    "cdata.min()"
   ]
  },
  {
   "cell_type": "code",
   "execution_count": 55,
   "metadata": {
    "scrolled": true
   },
   "outputs": [
    {
     "data": {
      "image/png": "[encoded data removed]",
      "text/plain": [
       "<Figure size 864x576 with 2 Axes>"
      ]
     },
     "metadata": {
      "needs_background": "light"
     },
     "output_type": "display_data"
    }
   ],
   "source": [
    "\n",
    "elev_min=cdata.min()\n",
    "elev_max=cdata.max()\n",
    "mid_val=0\n",
    "\n",
    "#plt.grid(None)\n",
    "\n",
    "fig, ax = plt.subplots(figsize=(12,8))\n",
    "ax.grid(None)\n",
    "im = ax.imshow(cdata,interpolation='nearest', aspect='auto', cmap='RdBu_r',clim=(elev_min, elev_max), norm=MidpointNormalize(midpoint=mid_val,vmin=elev_min, vmax=elev_max))\n",
    "\n",
    "# We want to show all ticks...\n",
    "ax.set_xticks(np.arange(len(scanparnames)))\n",
    "ax.set_yticks(np.arange(len(creadoutnames)))\n",
    "# ... and label them with the respective list entries\n",
    "ax.set_xticklabels(scanparnames,fontsize=fsize, rotation=90)\n",
    "ax.set_yticklabels(creadoutnames,fontsize=fsize)\n",
    "cbar = fig.colorbar(im,ax=ax,label='Concentration Control Coefficient')\n",
    "#plt.savefig(\"Users/nima/FCC.svg\")\n",
    "\n",
    "cbar.ax.tick_params(labelsize=fsize)\n",
    "cbar.set_label(label=\"Concentration Control Coefficient\", fontsize=fsize)\n",
    "\n",
    "\n",
    "#plt.show()"
   ]
  },
  {
   "cell_type": "markdown",
   "metadata": {},
   "source": [
    "### control coefficients for low light (PPFD=100)"
   ]
  },
  {
   "cell_type": "code",
   "execution_count": 18,
   "metadata": {},
   "outputs": [],
   "source": [
    "s.update_parameter(\"pfd\",100)"
   ]
  },
  {
   "cell_type": "code",
   "execution_count": 19,
   "metadata": {},
   "outputs": [
    {
     "data": {
      "application/vnd.jupyter.widget-view+json": {
       "model_id": "e79a9b43e8b34cba9751ce7421308b33",
       "version_major": 2,
       "version_minor": 0
      },
      "text/plain": [
       "  0%|          | 0/10 [00:00<?, ?it/s]"
      ]
     },
     "metadata": {},
     "output_type": "display_data"
    }
   ],
   "source": [
    "fccdict = {}\n",
    "cccdict = {}\n",
    "for p in tqdm(scanpars, total=len(scanpars)):\n",
    "    crc, frc = response_coefficients(s,p)\n",
    "    fccdict[p] = frc\n",
    "    cccdict[p] = crc\n",
    "\n",
    "fcc = pd.DataFrame(fccdict)\n",
    "ccc = pd.DataFrame(cccdict)"
   ]
  },
  {
   "cell_type": "code",
   "execution_count": 20,
   "metadata": {
    "scrolled": true
   },
   "outputs": [
    {
     "data": {
      "text/html": [
       "<div>\n",
       "<style scoped>\n",
       "    .dataframe tbody tr th:only-of-type {\n",
       "        vertical-align: middle;\n",
       "    }\n",
       "\n",
       "    .dataframe tbody tr th {\n",
       "        vertical-align: top;\n",
       "    }\n",
       "\n",
       "    .dataframe thead th {\n",
       "        text-align: right;\n",
       "    }\n",
       "</style>\n",
       "<table border=\"1\" class=\"dataframe\">\n",
       "  <thead>\n",
       "    <tr style=\"text-align: right;\">\n",
       "      <th></th>\n",
       "      <th>PSIItot</th>\n",
       "      <th>PSItot</th>\n",
       "      <th>kCytb6f</th>\n",
       "      <th>kcyc</th>\n",
       "      <th>kMehler</th>\n",
       "      <th>V1_base</th>\n",
       "      <th>V6_base</th>\n",
       "      <th>V9_base</th>\n",
       "      <th>kcat_DHAR</th>\n",
       "      <th>kcatMDAR</th>\n",
       "    </tr>\n",
       "  </thead>\n",
       "  <tbody>\n",
       "    <tr>\n",
       "      <th>vPS2</th>\n",
       "      <td>0.501871</td>\n",
       "      <td>0.516224</td>\n",
       "      <td>0.009520</td>\n",
       "      <td>-0.056932</td>\n",
       "      <td>0.000041</td>\n",
       "      <td>0.000733</td>\n",
       "      <td>-0.000584</td>\n",
       "      <td>0.018095</td>\n",
       "      <td>-1.216964e-12</td>\n",
       "      <td>-3.162450e-12</td>\n",
       "    </tr>\n",
       "    <tr>\n",
       "      <th>vPS1</th>\n",
       "      <td>0.360269</td>\n",
       "      <td>0.610964</td>\n",
       "      <td>0.011305</td>\n",
       "      <td>0.027416</td>\n",
       "      <td>-0.000035</td>\n",
       "      <td>-0.000196</td>\n",
       "      <td>0.001104</td>\n",
       "      <td>-0.005317</td>\n",
       "      <td>1.522684e-12</td>\n",
       "      <td>-6.018800e-12</td>\n",
       "    </tr>\n",
       "    <tr>\n",
       "      <th>vB6f</th>\n",
       "      <td>0.360269</td>\n",
       "      <td>0.610964</td>\n",
       "      <td>0.011305</td>\n",
       "      <td>0.027416</td>\n",
       "      <td>-0.000035</td>\n",
       "      <td>-0.000196</td>\n",
       "      <td>0.001104</td>\n",
       "      <td>-0.005317</td>\n",
       "      <td>1.504700e-12</td>\n",
       "      <td>-5.976836e-12</td>\n",
       "    </tr>\n",
       "    <tr>\n",
       "      <th>vMehler</th>\n",
       "      <td>0.240942</td>\n",
       "      <td>1.568327</td>\n",
       "      <td>-0.421823</td>\n",
       "      <td>-0.344110</td>\n",
       "      <td>0.999860</td>\n",
       "      <td>-0.001351</td>\n",
       "      <td>0.003313</td>\n",
       "      <td>-0.034486</td>\n",
       "      <td>5.575119e-12</td>\n",
       "      <td>-1.801766e-11</td>\n",
       "    </tr>\n",
       "    <tr>\n",
       "      <th>vCyc</th>\n",
       "      <td>0.039988</td>\n",
       "      <td>0.778679</td>\n",
       "      <td>0.014492</td>\n",
       "      <td>0.244464</td>\n",
       "      <td>-0.000230</td>\n",
       "      <td>-0.002576</td>\n",
       "      <td>0.005509</td>\n",
       "      <td>-0.065316</td>\n",
       "      <td>8.236534e-12</td>\n",
       "      <td>-1.054781e-11</td>\n",
       "    </tr>\n",
       "    <tr>\n",
       "      <th>vRuBisCO</th>\n",
       "      <td>0.514239</td>\n",
       "      <td>0.614979</td>\n",
       "      <td>0.011383</td>\n",
       "      <td>-0.046666</td>\n",
       "      <td>-0.000044</td>\n",
       "      <td>0.001992</td>\n",
       "      <td>-0.008663</td>\n",
       "      <td>0.057655</td>\n",
       "      <td>1.512575e-12</td>\n",
       "      <td>-2.277173e-12</td>\n",
       "    </tr>\n",
       "    <tr>\n",
       "      <th>vFBPase</th>\n",
       "      <td>0.554776</td>\n",
       "      <td>0.668060</td>\n",
       "      <td>0.012365</td>\n",
       "      <td>-0.048623</td>\n",
       "      <td>-0.000046</td>\n",
       "      <td>0.001286</td>\n",
       "      <td>0.047083</td>\n",
       "      <td>-0.001237</td>\n",
       "      <td>1.663903e-12</td>\n",
       "      <td>-3.757556e-12</td>\n",
       "    </tr>\n",
       "    <tr>\n",
       "      <th>v9</th>\n",
       "      <td>0.514239</td>\n",
       "      <td>0.614979</td>\n",
       "      <td>0.011383</td>\n",
       "      <td>-0.046666</td>\n",
       "      <td>-0.000044</td>\n",
       "      <td>0.001992</td>\n",
       "      <td>-0.008663</td>\n",
       "      <td>0.057655</td>\n",
       "      <td>1.508419e-12</td>\n",
       "      <td>-2.250163e-12</td>\n",
       "    </tr>\n",
       "    <tr>\n",
       "      <th>vMDAreduct</th>\n",
       "      <td>0.240942</td>\n",
       "      <td>1.568326</td>\n",
       "      <td>-0.421823</td>\n",
       "      <td>-0.344110</td>\n",
       "      <td>0.999860</td>\n",
       "      <td>-0.001351</td>\n",
       "      <td>0.003313</td>\n",
       "      <td>-0.034486</td>\n",
       "      <td>5.573890e-12</td>\n",
       "      <td>4.947165e-07</td>\n",
       "    </tr>\n",
       "    <tr>\n",
       "      <th>vDHAR</th>\n",
       "      <td>0.460662</td>\n",
       "      <td>3.161115</td>\n",
       "      <td>-0.843382</td>\n",
       "      <td>-0.668141</td>\n",
       "      <td>2.000021</td>\n",
       "      <td>-0.002583</td>\n",
       "      <td>0.006331</td>\n",
       "      <td>-0.065904</td>\n",
       "      <td>3.183302e-08</td>\n",
       "      <td>-2.000690e+00</td>\n",
       "    </tr>\n",
       "  </tbody>\n",
       "</table>\n",
       "</div>"
      ],
      "text/plain": [
       "             PSIItot    PSItot   kCytb6f      kcyc   kMehler   V1_base  \\\n",
       "vPS2        0.501871  0.516224  0.009520 -0.056932  0.000041  0.000733   \n",
       "vPS1        0.360269  0.610964  0.011305  0.027416 -0.000035 -0.000196   \n",
       "vB6f        0.360269  0.610964  0.011305  0.027416 -0.000035 -0.000196   \n",
       "vMehler     0.240942  1.568327 -0.421823 -0.344110  0.999860 -0.001351   \n",
       "vCyc        0.039988  0.778679  0.014492  0.244464 -0.000230 -0.002576   \n",
       "vRuBisCO    0.514239  0.614979  0.011383 -0.046666 -0.000044  0.001992   \n",
       "vFBPase     0.554776  0.668060  0.012365 -0.048623 -0.000046  0.001286   \n",
       "v9          0.514239  0.614979  0.011383 -0.046666 -0.000044  0.001992   \n",
       "vMDAreduct  0.240942  1.568326 -0.421823 -0.344110  0.999860 -0.001351   \n",
       "vDHAR       0.460662  3.161115 -0.843382 -0.668141  2.000021 -0.002583   \n",
       "\n",
       "             V6_base   V9_base     kcat_DHAR      kcatMDAR  \n",
       "vPS2       -0.000584  0.018095 -1.216964e-12 -3.162450e-12  \n",
       "vPS1        0.001104 -0.005317  1.522684e-12 -6.018800e-12  \n",
       "vB6f        0.001104 -0.005317  1.504700e-12 -5.976836e-12  \n",
       "vMehler     0.003313 -0.034486  5.575119e-12 -1.801766e-11  \n",
       "vCyc        0.005509 -0.065316  8.236534e-12 -1.054781e-11  \n",
       "vRuBisCO   -0.008663  0.057655  1.512575e-12 -2.277173e-12  \n",
       "vFBPase     0.047083 -0.001237  1.663903e-12 -3.757556e-12  \n",
       "v9         -0.008663  0.057655  1.508419e-12 -2.250163e-12  \n",
       "vMDAreduct  0.003313 -0.034486  5.573890e-12  4.947165e-07  \n",
       "vDHAR       0.006331 -0.065904  3.183302e-08 -2.000690e+00  "
      ]
     },
     "execution_count": 20,
     "metadata": {},
     "output_type": "execute_result"
    }
   ],
   "source": [
    "fcc.loc[freadouts,scanpars]"
   ]
  },
  {
   "cell_type": "code",
   "execution_count": 21,
   "metadata": {},
   "outputs": [
    {
     "data": {
      "text/plain": [
       "3.1611145272484285"
      ]
     },
     "execution_count": 21,
     "metadata": {},
     "output_type": "execute_result"
    }
   ],
   "source": [
    "data = np.array(fcc.loc[freadouts,scanpars])\n",
    "data.max()"
   ]
  },
  {
   "cell_type": "code",
   "execution_count": 22,
   "metadata": {},
   "outputs": [
    {
     "data": {
      "image/png": "[encoded data removed]",
      "text/plain": [
       "<Figure size 864x576 with 2 Axes>"
      ]
     },
     "metadata": {
      "needs_background": "light"
     },
     "output_type": "display_data"
    }
   ],
   "source": [
    "fsize = 16\n",
    "\n",
    "elev_min=data.min()\n",
    "elev_max=data.max()\n",
    "mid_val=0\n",
    "\n",
    "#plt.grid(None)\n",
    "\n",
    "fig, ax = plt.subplots(figsize=(12,8))\n",
    "ax.grid(None)\n",
    "im = ax.imshow(data,interpolation='nearest', aspect='auto', cmap='RdBu_r',clim=(elev_min, elev_max), norm=MidpointNormalize(midpoint=mid_val,vmin=elev_min, vmax=elev_max))\n",
    "\n",
    "# We want to show all ticks...\n",
    "ax.set_xticks(np.arange(len(scanparnames)))\n",
    "ax.set_yticks(np.arange(len(freadoutnames)))\n",
    "# ... and label them with the respective list entries\n",
    "ax.set_xticklabels(scanparnames,fontsize=fsize,rotation=90)\n",
    "ax.set_yticklabels(freadoutnames,fontsize=fsize)\n",
    "cbar = fig.colorbar(im,ax=ax,label='Flux Control Coefficient')\n",
    "#plt.savefig(\"Users/nima/FCC.svg\")\n",
    "\n",
    "cbar.ax.tick_params(labelsize=fsize)\n",
    "cbar.set_label(label=\"Flux Control Coefficient\", fontsize=fsize)\n",
    "\n",
    "#plt.show()"
   ]
  },
  {
   "cell_type": "code",
   "execution_count": 23,
   "metadata": {},
   "outputs": [
    {
     "data": {
      "text/plain": [
       "-1.4940783344599127"
      ]
     },
     "execution_count": 23,
     "metadata": {},
     "output_type": "execute_result"
    }
   ],
   "source": [
    "cdata = np.array(ccc.loc[creadouts,scanpars])\n",
    "cdata.min()"
   ]
  },
  {
   "cell_type": "code",
   "execution_count": 24,
   "metadata": {
    "scrolled": false
   },
   "outputs": [
    {
     "data": {
      "image/png": "[encoded data removed]",
      "text/plain": [
       "<Figure size 864x576 with 2 Axes>"
      ]
     },
     "metadata": {
      "needs_background": "light"
     },
     "output_type": "display_data"
    }
   ],
   "source": [
    "\n",
    "elev_min=cdata.min()\n",
    "elev_max=cdata.max()\n",
    "mid_val=0\n",
    "\n",
    "#plt.grid(None)\n",
    "\n",
    "fig, ax = plt.subplots(figsize=(12,8))\n",
    "ax.grid(None)\n",
    "im = ax.imshow(cdata,interpolation='nearest', aspect='auto', cmap='RdBu_r',clim=(elev_min, elev_max), norm=MidpointNormalize(midpoint=mid_val,vmin=elev_min, vmax=elev_max))\n",
    "\n",
    "# We want to show all ticks...\n",
    "ax.set_xticks(np.arange(len(scanparnames)))\n",
    "ax.set_yticks(np.arange(len(creadoutnames)))\n",
    "# ... and label them with the respective list entries\n",
    "ax.set_xticklabels(scanparnames,fontsize=fsize, rotation=90)\n",
    "ax.set_yticklabels(creadoutnames,fontsize=fsize)\n",
    "cbar = fig.colorbar(im,ax=ax,label='Concentration Control Coefficient')\n",
    "#plt.savefig(\"Users/nima/FCC.svg\")\n",
    "\n",
    "cbar.ax.tick_params(labelsize=fsize)\n",
    "cbar.set_label(label=\"Concentration Control Coefficient\", fontsize=fsize)\n",
    "\n",
    "\n",
    "#plt.show()"
   ]
  },
  {
   "cell_type": "code",
   "execution_count": null,
   "metadata": {},
   "outputs": [],
   "source": []
  },
  {
   "cell_type": "markdown",
   "metadata": {},
   "source": [
    "### control coefficients for high light and impaired RuBisCO (PPFD=1000, V1_base * 0.25)"
   ]
  },
  {
   "cell_type": "code",
   "execution_count": 25,
   "metadata": {},
   "outputs": [],
   "source": [
    "s.update_parameters({\"pfd\":1000,\"V1_base\":par_orig[\"V1_base\"]/4})"
   ]
  },
  {
   "cell_type": "code",
   "execution_count": 26,
   "metadata": {},
   "outputs": [
    {
     "data": {
      "application/vnd.jupyter.widget-view+json": {
       "model_id": "ab4d24fee5f34a09936e46ef7342d872",
       "version_major": 2,
       "version_minor": 0
      },
      "text/plain": [
       "  0%|          | 0/10 [00:00<?, ?it/s]"
      ]
     },
     "metadata": {},
     "output_type": "display_data"
    }
   ],
   "source": [
    "fccdict = {}\n",
    "cccdict = {}\n",
    "for p in tqdm(scanpars, total=len(scanpars)):\n",
    "    crc, frc = response_coefficients(s,p)\n",
    "    fccdict[p] = frc\n",
    "    cccdict[p] = crc\n",
    "\n",
    "fcc = pd.DataFrame(fccdict)\n",
    "ccc = pd.DataFrame(cccdict)"
   ]
  },
  {
   "cell_type": "code",
   "execution_count": 27,
   "metadata": {
    "scrolled": true
   },
   "outputs": [
    {
     "data": {
      "text/html": [
       "<div>\n",
       "<style scoped>\n",
       "    .dataframe tbody tr th:only-of-type {\n",
       "        vertical-align: middle;\n",
       "    }\n",
       "\n",
       "    .dataframe tbody tr th {\n",
       "        vertical-align: top;\n",
       "    }\n",
       "\n",
       "    .dataframe thead th {\n",
       "        text-align: right;\n",
       "    }\n",
       "</style>\n",
       "<table border=\"1\" class=\"dataframe\">\n",
       "  <thead>\n",
       "    <tr style=\"text-align: right;\">\n",
       "      <th></th>\n",
       "      <th>PSIItot</th>\n",
       "      <th>PSItot</th>\n",
       "      <th>kCytb6f</th>\n",
       "      <th>kcyc</th>\n",
       "      <th>kMehler</th>\n",
       "      <th>V1_base</th>\n",
       "      <th>V6_base</th>\n",
       "      <th>V9_base</th>\n",
       "      <th>kcat_DHAR</th>\n",
       "      <th>kcatMDAR</th>\n",
       "    </tr>\n",
       "  </thead>\n",
       "  <tbody>\n",
       "    <tr>\n",
       "      <th>vPS2</th>\n",
       "      <td>0.128245</td>\n",
       "      <td>0.014487</td>\n",
       "      <td>0.003419</td>\n",
       "      <td>-0.096991</td>\n",
       "      <td>0.002609</td>\n",
       "      <td>0.721535</td>\n",
       "      <td>-0.027315</td>\n",
       "      <td>0.065419</td>\n",
       "      <td>1.835781e-12</td>\n",
       "      <td>7.560152e-11</td>\n",
       "    </tr>\n",
       "    <tr>\n",
       "      <th>vPS1</th>\n",
       "      <td>0.109382</td>\n",
       "      <td>0.034747</td>\n",
       "      <td>0.012483</td>\n",
       "      <td>-0.066273</td>\n",
       "      <td>-0.003580</td>\n",
       "      <td>0.658416</td>\n",
       "      <td>-0.018451</td>\n",
       "      <td>0.057567</td>\n",
       "      <td>2.237933e-12</td>\n",
       "      <td>5.900058e-11</td>\n",
       "    </tr>\n",
       "    <tr>\n",
       "      <th>vB6f</th>\n",
       "      <td>0.109382</td>\n",
       "      <td>0.034747</td>\n",
       "      <td>0.012483</td>\n",
       "      <td>-0.066273</td>\n",
       "      <td>-0.003580</td>\n",
       "      <td>0.658416</td>\n",
       "      <td>-0.018451</td>\n",
       "      <td>0.057567</td>\n",
       "      <td>1.939151e-12</td>\n",
       "      <td>5.911189e-11</td>\n",
       "    </tr>\n",
       "    <tr>\n",
       "      <th>vMehler</th>\n",
       "      <td>3.076738</td>\n",
       "      <td>1.549718</td>\n",
       "      <td>0.077535</td>\n",
       "      <td>-2.297645</td>\n",
       "      <td>0.941420</td>\n",
       "      <td>-1.385167</td>\n",
       "      <td>0.110577</td>\n",
       "      <td>-0.144684</td>\n",
       "      <td>5.624721e-11</td>\n",
       "      <td>1.648905e-09</td>\n",
       "    </tr>\n",
       "    <tr>\n",
       "      <th>vCyc</th>\n",
       "      <td>0.065546</td>\n",
       "      <td>0.084933</td>\n",
       "      <td>0.035001</td>\n",
       "      <td>0.012339</td>\n",
       "      <td>-0.019060</td>\n",
       "      <td>0.485815</td>\n",
       "      <td>0.004220</td>\n",
       "      <td>0.036610</td>\n",
       "      <td>3.283716e-12</td>\n",
       "      <td>1.966138e-11</td>\n",
       "    </tr>\n",
       "    <tr>\n",
       "      <th>vRuBisCO</th>\n",
       "      <td>0.111753</td>\n",
       "      <td>0.006683</td>\n",
       "      <td>0.003066</td>\n",
       "      <td>-0.086467</td>\n",
       "      <td>-0.002218</td>\n",
       "      <td>0.771987</td>\n",
       "      <td>-0.031128</td>\n",
       "      <td>0.086495</td>\n",
       "      <td>2.216135e-12</td>\n",
       "      <td>6.585086e-11</td>\n",
       "    </tr>\n",
       "    <tr>\n",
       "      <th>vFBPase</th>\n",
       "      <td>0.124223</td>\n",
       "      <td>0.007432</td>\n",
       "      <td>0.003409</td>\n",
       "      <td>-0.096116</td>\n",
       "      <td>-0.002462</td>\n",
       "      <td>0.835195</td>\n",
       "      <td>0.011827</td>\n",
       "      <td>0.036968</td>\n",
       "      <td>2.467709e-12</td>\n",
       "      <td>7.355273e-11</td>\n",
       "    </tr>\n",
       "    <tr>\n",
       "      <th>v9</th>\n",
       "      <td>0.111753</td>\n",
       "      <td>0.006683</td>\n",
       "      <td>0.003066</td>\n",
       "      <td>-0.086467</td>\n",
       "      <td>-0.002218</td>\n",
       "      <td>0.771987</td>\n",
       "      <td>-0.031128</td>\n",
       "      <td>0.086495</td>\n",
       "      <td>2.228311e-12</td>\n",
       "      <td>6.533945e-11</td>\n",
       "    </tr>\n",
       "    <tr>\n",
       "      <th>vMDAreduct</th>\n",
       "      <td>3.076545</td>\n",
       "      <td>1.549621</td>\n",
       "      <td>0.077531</td>\n",
       "      <td>-2.297501</td>\n",
       "      <td>0.941361</td>\n",
       "      <td>-1.385081</td>\n",
       "      <td>0.110571</td>\n",
       "      <td>-0.144675</td>\n",
       "      <td>5.627440e-11</td>\n",
       "      <td>1.211983e-04</td>\n",
       "    </tr>\n",
       "    <tr>\n",
       "      <th>vDHAR</th>\n",
       "      <td>6.359213</td>\n",
       "      <td>3.203452</td>\n",
       "      <td>0.160122</td>\n",
       "      <td>-4.748380</td>\n",
       "      <td>1.946312</td>\n",
       "      <td>-2.860049</td>\n",
       "      <td>0.228305</td>\n",
       "      <td>-0.298687</td>\n",
       "      <td>1.239237e-10</td>\n",
       "      <td>-2.067610e+00</td>\n",
       "    </tr>\n",
       "  </tbody>\n",
       "</table>\n",
       "</div>"
      ],
      "text/plain": [
       "             PSIItot    PSItot   kCytb6f      kcyc   kMehler   V1_base  \\\n",
       "vPS2        0.128245  0.014487  0.003419 -0.096991  0.002609  0.721535   \n",
       "vPS1        0.109382  0.034747  0.012483 -0.066273 -0.003580  0.658416   \n",
       "vB6f        0.109382  0.034747  0.012483 -0.066273 -0.003580  0.658416   \n",
       "vMehler     3.076738  1.549718  0.077535 -2.297645  0.941420 -1.385167   \n",
       "vCyc        0.065546  0.084933  0.035001  0.012339 -0.019060  0.485815   \n",
       "vRuBisCO    0.111753  0.006683  0.003066 -0.086467 -0.002218  0.771987   \n",
       "vFBPase     0.124223  0.007432  0.003409 -0.096116 -0.002462  0.835195   \n",
       "v9          0.111753  0.006683  0.003066 -0.086467 -0.002218  0.771987   \n",
       "vMDAreduct  3.076545  1.549621  0.077531 -2.297501  0.941361 -1.385081   \n",
       "vDHAR       6.359213  3.203452  0.160122 -4.748380  1.946312 -2.860049   \n",
       "\n",
       "             V6_base   V9_base     kcat_DHAR      kcatMDAR  \n",
       "vPS2       -0.027315  0.065419  1.835781e-12  7.560152e-11  \n",
       "vPS1       -0.018451  0.057567  2.237933e-12  5.900058e-11  \n",
       "vB6f       -0.018451  0.057567  1.939151e-12  5.911189e-11  \n",
       "vMehler     0.110577 -0.144684  5.624721e-11  1.648905e-09  \n",
       "vCyc        0.004220  0.036610  3.283716e-12  1.966138e-11  \n",
       "vRuBisCO   -0.031128  0.086495  2.216135e-12  6.585086e-11  \n",
       "vFBPase     0.011827  0.036968  2.467709e-12  7.355273e-11  \n",
       "v9         -0.031128  0.086495  2.228311e-12  6.533945e-11  \n",
       "vMDAreduct  0.110571 -0.144675  5.627440e-11  1.211983e-04  \n",
       "vDHAR       0.228305 -0.298687  1.239237e-10 -2.067610e+00  "
      ]
     },
     "execution_count": 27,
     "metadata": {},
     "output_type": "execute_result"
    }
   ],
   "source": [
    "fcc.loc[freadouts,scanpars]"
   ]
  },
  {
   "cell_type": "code",
   "execution_count": 28,
   "metadata": {},
   "outputs": [
    {
     "data": {
      "text/plain": [
       "6.359212705666191"
      ]
     },
     "execution_count": 28,
     "metadata": {},
     "output_type": "execute_result"
    }
   ],
   "source": [
    "data = np.array(fcc.loc[freadouts,scanpars])\n",
    "data.max()"
   ]
  },
  {
   "cell_type": "code",
   "execution_count": 29,
   "metadata": {},
   "outputs": [
    {
     "data": {
      "image/png": "[encoded data removed]",
      "text/plain": [
       "<Figure size 864x576 with 2 Axes>"
      ]
     },
     "metadata": {
      "needs_background": "light"
     },
     "output_type": "display_data"
    }
   ],
   "source": [
    "fsize = 16\n",
    "\n",
    "elev_min=data.min()\n",
    "elev_max=data.max()\n",
    "mid_val=0\n",
    "\n",
    "#plt.grid(None)\n",
    "\n",
    "fig, ax = plt.subplots(figsize=(12,8))\n",
    "ax.grid(None)\n",
    "im = ax.imshow(data,interpolation='nearest', aspect='auto', cmap='RdBu_r',clim=(elev_min, elev_max), norm=MidpointNormalize(midpoint=mid_val,vmin=elev_min, vmax=elev_max))\n",
    "\n",
    "# We want to show all ticks...\n",
    "ax.set_xticks(np.arange(len(scanparnames)))\n",
    "ax.set_yticks(np.arange(len(freadoutnames)))\n",
    "# ... and label them with the respective list entries\n",
    "ax.set_xticklabels(scanparnames,fontsize=fsize,rotation=90)\n",
    "ax.set_yticklabels(freadoutnames,fontsize=fsize)\n",
    "cbar = fig.colorbar(im,ax=ax,label='Flux Control Coefficient')\n",
    "#plt.savefig(\"Users/nima/FCC.svg\")\n",
    "\n",
    "cbar.ax.tick_params(labelsize=fsize)\n",
    "cbar.set_label(label=\"Flux Control Coefficient\", fontsize=fsize)\n",
    "\n",
    "#plt.show()"
   ]
  },
  {
   "cell_type": "code",
   "execution_count": 30,
   "metadata": {},
   "outputs": [
    {
     "data": {
      "text/plain": [
       "-2.4103060299641075"
      ]
     },
     "execution_count": 30,
     "metadata": {},
     "output_type": "execute_result"
    }
   ],
   "source": [
    "cdata = np.array(ccc.loc[creadouts,scanpars])\n",
    "cdata.min()"
   ]
  },
  {
   "cell_type": "code",
   "execution_count": 31,
   "metadata": {
    "scrolled": false
   },
   "outputs": [
    {
     "data": {
      "image/png": "[encoded data removed]",
      "text/plain": [
       "<Figure size 864x576 with 2 Axes>"
      ]
     },
     "metadata": {
      "needs_background": "light"
     },
     "output_type": "display_data"
    }
   ],
   "source": [
    "\n",
    "elev_min=cdata.min()\n",
    "elev_max=cdata.max()\n",
    "mid_val=0\n",
    "\n",
    "#plt.grid(None)\n",
    "\n",
    "fig, ax = plt.subplots(figsize=(12,8))\n",
    "ax.grid(None)\n",
    "im = ax.imshow(cdata,interpolation='nearest', aspect='auto', cmap='RdBu_r',clim=(elev_min, elev_max), norm=MidpointNormalize(midpoint=mid_val,vmin=elev_min, vmax=elev_max))\n",
    "\n",
    "# We want to show all ticks...\n",
    "ax.set_xticks(np.arange(len(scanparnames)))\n",
    "ax.set_yticks(np.arange(len(creadoutnames)))\n",
    "# ... and label them with the respective list entries\n",
    "ax.set_xticklabels(scanparnames,fontsize=fsize, rotation=90)\n",
    "ax.set_yticklabels(creadoutnames,fontsize=fsize)\n",
    "cbar = fig.colorbar(im,ax=ax,label='Concentration Control Coefficient')\n",
    "#plt.savefig(\"Users/nima/FCC.svg\")\n",
    "\n",
    "cbar.ax.tick_params(labelsize=fsize)\n",
    "cbar.set_label(label=\"Concentration Control Coefficient\", fontsize=fsize)\n",
    "\n",
    "\n",
    "#plt.show()"
   ]
  },
  {
   "cell_type": "code",
   "execution_count": null,
   "metadata": {},
   "outputs": [],
   "source": []
  }
 ],
 "metadata": {
  "kernelspec": {
   "display_name": "Python 3",
   "language": "python",
   "name": "python3"
  },
  "language_info": {
   "codemirror_mode": {
    "name": "ipython",
    "version": 3
   },
   "file_extension": ".py",
   "mimetype": "text/x-python",
   "name": "python",
   "nbconvert_exporter": "python",
   "pygments_lexer": "ipython3",
   "version": "3.9.2"
  },
  "toc": {
   "base_numbering": 1,
   "nav_menu": {},
   "number_sections": true,
   "sideBar": true,
   "skip_h1_title": false,
   "title_cell": "Table of Contents",
   "title_sidebar": "Contents",
   "toc_cell": false,
   "toc_position": {},
   "toc_section_display": true,
   "toc_window_display": false
  }
 },
 "nbformat": 4,
 "nbformat_minor": 4
}
