{
 "cells": [
  {
   "cell_type": "markdown",
   "id": "dynamic-perspective",
   "metadata": {},
   "source": [
    "# Carbon fixation scan"
   ]
  },
  {
   "cell_type": "code",
   "execution_count": 1,
   "id": "boolean-flood",
   "metadata": {},
   "outputs": [
    {
     "name": "stdout",
     "output_type": "stream",
     "text": [
      "1.3.6\n"
     ]
    }
   ],
   "source": [
    "import numpy as np\n",
    "import pandas as pd\n",
    "import matplotlib.pyplot as plt\n",
    "import modelbase\n",
    "from tqdm.notebook import tqdm\n",
    "from modelbase.ode import Simulator\n",
    "\n",
    "plt.style.use(\"./notebook.mplstyle\")\n",
    "print(modelbase.__version__)"
   ]
  },
  {
   "cell_type": "code",
   "execution_count": 2,
   "id": "honest-luther",
   "metadata": {},
   "outputs": [],
   "source": [
    "%%capture\n",
    "cd .."
   ]
  },
  {
   "cell_type": "code",
   "execution_count": 3,
   "id": "rocky-effect",
   "metadata": {},
   "outputs": [],
   "source": [
    "from models import get_model"
   ]
  },
  {
   "cell_type": "code",
   "execution_count": 4,
   "id": "interesting-testing",
   "metadata": {},
   "outputs": [],
   "source": [
    "%%capture\n",
    "\n",
    "cd analyses/"
   ]
  },
  {
   "cell_type": "code",
   "execution_count": 5,
   "id": "billion-powell",
   "metadata": {},
   "outputs": [],
   "source": [
    "def get_new_y0(s):\n",
    "    return dict(s.get_results_df().iloc[-1])\n",
    "\n",
    "\n",
    "def pfd_ss_scan(s, pfd_values, y0_loop):\n",
    "    fluxes = {}\n",
    "    concentrations = {}\n",
    "    for x in tqdm(pfd_values, total=len(pfd_values)):\n",
    "        s.initialise(y0_loop)\n",
    "        s.update_parameter(\"pfd\", x)\n",
    "        try:\n",
    "            t, y = s.simulate_to_steady_state()\n",
    "            concentrations[x] = y[-1]\n",
    "            fluxes[x] = s.model.get_fluxes_array(y=y, t=t)[-1]\n",
    "            # Model is sensitive to initial conditions, so set the last ones every loop\n",
    "            y0_loop = get_new_y0(s)\n",
    "        except:\n",
    "            all_compounds = s.model.get_all_compounds()\n",
    "            rate_names = s.model.get_rate_names()\n",
    "            concentrations[x] = np.full(len(all_compounds), np.nan)\n",
    "            fluxes[x] = np.full(len(rate_names), np.nan)\n",
    "    return (\n",
    "        pd.DataFrame(concentrations, index=s.model.compounds).T,\n",
    "        pd.DataFrame(fluxes, index=s.model.get_rate_names()).T,\n",
    "    )\n",
    "\n",
    "\n",
    "NUM_SCANS = 50\n",
    "LOW_LIGHT = 50\n",
    "HIGH_LIGHT = 1500\n",
    "PFD_VALUES = np.linspace(LOW_LIGHT, HIGH_LIGHT, NUM_SCANS)\n",
    "\n",
    "y0 = {\n",
    "    \"PQ\": 11.248282037382348,\n",
    "    \"PC\": 1.3639930534269078,\n",
    "    \"Fd\": 4.207984023619571,\n",
    "    \"ATP\": 1.6085042256522668,\n",
    "    \"NADPH\": 0.45672250689837696,\n",
    "    \"H\": 0.002174958602661375,\n",
    "    \"LHC\": 0.8079188314632375,\n",
    "    \"Psbs\": 0.9626375680773129,\n",
    "    \"Vx\": 0.9570474456930378,\n",
    "    \"PGA\": 0.6109221284988471,\n",
    "    \"BPGA\": 0.0003235574325883373,\n",
    "    \"GAP\": 0.003190323205250446,\n",
    "    \"DHAP\": 0.07018710225866034,\n",
    "    \"FBP\": 0.0015898274733035427,\n",
    "    \"F6P\": 0.0886998278393475,\n",
    "    \"G6P\": 0.20400960399249862,\n",
    "    \"G1P\": 0.011832557030606641,\n",
    "    \"SBP\": 0.003215008299488195,\n",
    "    \"S7P\": 0.02811069161049136,\n",
    "    \"E4P\": 0.003523560381569699,\n",
    "    \"X5P\": 0.006746131132013272,\n",
    "    \"R5P\": 0.011299769265221232,\n",
    "    \"RUBP\": 0.030373422172205858,\n",
    "    \"RU5P\": 0.004519907641254276,\n",
    "    \"MDA\": 2.2718326276618075e-06,\n",
    "    \"ASC\": 9.999997726884683,\n",
    "    \"H2O2\": 1.3296482521160688e-06,\n",
    "    \"DHA\": 1.2828228406972059e-09,\n",
    "    \"GSH\": 9.999999998752703,\n",
    "    \"GSSG\": 6.236645512101874e-10,\n",
    "    \"TR_ox\": 0.9,\n",
    "    \"E_inactive\": 4.7368421052631575,\n",
    "}"
   ]
  },
  {
   "cell_type": "code",
   "execution_count": 6,
   "id": "distinct-vietnamese",
   "metadata": {
    "scrolled": false
   },
   "outputs": [
    {
     "data": {
      "application/vnd.jupyter.widget-view+json": {
       "model_id": "2eca8b7dfe734bc3bae4131e2b9fddd6",
       "version_major": 2,
       "version_minor": 0
      },
      "text/plain": [
       "  0%|          | 0/50 [00:00<?, ?it/s]"
      ]
     },
     "metadata": {},
     "output_type": "display_data"
    }
   ],
   "source": [
    "s = Simulator(get_model())\n",
    "c_ss_petc, v_ss_petc = pfd_ss_scan(s, PFD_VALUES, y0)"
   ]
  },
  {
   "cell_type": "code",
   "execution_count": 7,
   "id": "pediatric-significance",
   "metadata": {},
   "outputs": [
    {
     "data": {
      "image/png": "[encoded data removed]",
      "text/plain": [
       "<Figure size 432x288 with 1 Axes>"
      ]
     },
     "metadata": {
      "needs_background": "light"
     },
     "output_type": "display_data"
    }
   ],
   "source": [
    "v_ss_petc.loc[:, [\"vStarch\", \"vpga\", \"vgap\", \"vdhap\"]].plot(title=\"Carbon fixation\")\n",
    "plt.show()"
   ]
  },
  {
   "cell_type": "code",
   "execution_count": null,
   "id": "indie-trail",
   "metadata": {},
   "outputs": [],
   "source": []
  }
 ],
 "metadata": {
  "kernelspec": {
   "display_name": "Python 3",
   "language": "python",
   "name": "python3"
  },
  "language_info": {
   "codemirror_mode": {
    "name": "ipython",
    "version": 3
   },
   "file_extension": ".py",
   "mimetype": "text/x-python",
   "name": "python",
   "nbconvert_exporter": "python",
   "pygments_lexer": "ipython3",
   "version": "3.9.1"
  },
  "toc": {
   "base_numbering": 1,
   "nav_menu": {},
   "number_sections": true,
   "sideBar": true,
   "skip_h1_title": false,
   "title_cell": "Table of Contents",
   "title_sidebar": "Contents",
   "toc_cell": false,
   "toc_position": {},
   "toc_section_display": true,
   "toc_window_display": false
  }
 },
 "nbformat": 4,
 "nbformat_minor": 5
}
