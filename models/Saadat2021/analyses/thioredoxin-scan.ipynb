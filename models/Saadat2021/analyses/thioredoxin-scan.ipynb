{
 "cells": [
  {
   "cell_type": "code",
   "execution_count": 1,
   "id": "beginning-romance",
   "metadata": {},
   "outputs": [
    {
     "name": "stdout",
     "output_type": "stream",
     "text": [
      "1.3.6\n"
     ]
    }
   ],
   "source": [
    "import numpy as np\n",
    "import pandas as pd\n",
    "import matplotlib.pyplot as plt\n",
    "import itertools as it\n",
    "from matplotlib import ticker\n",
    "import modelbase\n",
    "from tqdm.notebook import tqdm\n",
    "from modelbase.ode import Simulator\n",
    "from scipy.optimize import minimize\n",
    "\n",
    "plt.style.use(\"./notebook.mplstyle\")\n",
    "print(modelbase.__version__)"
   ]
  },
  {
   "cell_type": "code",
   "execution_count": 2,
   "id": "incredible-restoration",
   "metadata": {},
   "outputs": [],
   "source": [
    "%%capture\n",
    "cd .."
   ]
  },
  {
   "cell_type": "code",
   "execution_count": 3,
   "id": "royal-concentrate",
   "metadata": {},
   "outputs": [],
   "source": [
    "from models import get_model"
   ]
  },
  {
   "cell_type": "code",
   "execution_count": 4,
   "id": "discrete-climb",
   "metadata": {},
   "outputs": [],
   "source": [
    "%%capture\n",
    "cd analyses/"
   ]
  },
  {
   "cell_type": "code",
   "execution_count": 9,
   "id": "mediterranean-honey",
   "metadata": {},
   "outputs": [],
   "source": [
    "def get_new_y0(s):\n",
    "    return dict(s.get_results_df().iloc[-1])\n",
    "\n",
    "\n",
    "def updating_parameter_scan(s, names, values, y0, t_end=10_000):\n",
    "    if isinstance(names, str):\n",
    "        names = [names]\n",
    "\n",
    "    fluxes = {}\n",
    "    concentrations = {}\n",
    "    for value in tqdm(values, total=len(values)):\n",
    "        s.initialise(y0)\n",
    "        s.update_parameters(dict(zip(names, it.repeat(value))))\n",
    "        try:\n",
    "            t, y = s.simulate(t_end)\n",
    "            concentrations[value] = dict(s.get_full_results_df().iloc[-1])\n",
    "            fluxes[value] = dict(s.get_fluxes_df().iloc[-1])\n",
    "            y0 = get_new_y0(s)\n",
    "        except:\n",
    "            all_compounds = s.model.get_all_compounds()\n",
    "            rate_names = s.model.get_rate_names()\n",
    "            concentrations[value] = dict(\n",
    "                zip(all_compounds, np.full(len(all_compounds), np.nan))\n",
    "            )\n",
    "            fluxes[value] = dict(zip(rate_names, np.full(len(rate_names), np.nan)))\n",
    "    return pd.DataFrame(concentrations).T, pd.DataFrame(fluxes).T\n",
    "\n",
    "\n",
    "y0_40 = {\n",
    "    \"PQ\": 11.027139850905353,\n",
    "    \"PC\": 1.8895071932002812,\n",
    "    \"Fd\": 3.8690237263896705,\n",
    "    \"ATP\": 1.620195002854852,\n",
    "    \"NADPH\": 0.4882103700673736,\n",
    "    \"H\": 0.0022147075094596015,\n",
    "    \"LHC\": 0.8023074419510501,\n",
    "    \"Psbs\": 0.9607146039898598,\n",
    "    \"Vx\": 0.950783616933656,\n",
    "    \"PGA\": 0.9913970817549008,\n",
    "    \"BPGA\": 0.0005355311557548053,\n",
    "    \"GAP\": 0.0062630116252017295,\n",
    "    \"DHAP\": 0.13778623933075737,\n",
    "    \"FBP\": 0.006126990841013743,\n",
    "    \"F6P\": 0.31166103888161867,\n",
    "    \"G6P\": 0.7168203893211117,\n",
    "    \"G1P\": 0.041575582577936025,\n",
    "    \"SBP\": 0.01311315151803723,\n",
    "    \"S7P\": 0.15782894767619207,\n",
    "    \"E4P\": 0.00732079113061801,\n",
    "    \"X5P\": 0.022396849486562384,\n",
    "    \"R5P\": 0.03751472214765548,\n",
    "    \"RUBP\": 0.13153657267999222,\n",
    "    \"RU5P\": 0.015005888732707041,\n",
    "    \"MDA\": 5.85270097771621e-06,\n",
    "    \"ASC\": 9.999994138785292,\n",
    "    \"H2O2\": 3.4273920330125316e-06,\n",
    "    \"DHA\": 8.513863740903352e-09,\n",
    "    \"GSH\": 9.999999991725186,\n",
    "    \"GSSG\": 4.137406632226743e-09,\n",
    "    \"TR_ox\": 0.9,\n",
    "    \"E_inactive\": 4.7368421052631575,\n",
    "}"
   ]
  },
  {
   "cell_type": "code",
   "execution_count": 18,
   "id": "following-franchise",
   "metadata": {},
   "outputs": [],
   "source": [
    "s = Simulator(get_model())\n",
    "s.initialise(y0_40)\n",
    "s.update_parameters({\"pfd\": 200.0})\n",
    "s.simulate(100_000)\n",
    "y0_700 = get_new_y0(s)"
   ]
  },
  {
   "cell_type": "code",
   "execution_count": 19,
   "id": "31883474",
   "metadata": {},
   "outputs": [
    {
     "data": {
      "application/vnd.jupyter.widget-view+json": {
       "model_id": "89cbb9524c31433d818cd4720a87cbb0",
       "version_major": 2,
       "version_minor": 0
      },
      "text/plain": [
       "  0%|          | 0/100 [00:00<?, ?it/s]"
      ]
     },
     "metadata": {},
     "output_type": "display_data"
    }
   ],
   "source": [
    "val = np.linspace(0.1, 10, 100)\n",
    "c, v = updating_parameter_scan(s, names=[\"k_fd_tr_reductase\", \"k_e_cbb_activation\"], values=val, y0=y0_40)"
   ]
  },
  {
   "cell_type": "code",
   "execution_count": 20,
   "id": "c7139f30",
   "metadata": {},
   "outputs": [
    {
     "data": {
      "image/png": "[encoded data removed]",
      "text/plain": [
       "<Figure size 864x288 with 3 Axes>"
      ]
     },
     "metadata": {
      "needs_background": "light"
     },
     "output_type": "display_data"
    }
   ],
   "source": [
    "fig, (ax1, ax2, ax3) = plt.subplots(1, 3, figsize=(12, 4))\n",
    "\n",
    "c[\"pH\"].plot(xlabel=\"Thioredoxin rate\", ylabel=\"pH\", title=\"pH\", ax=ax1)\n",
    "c[\"Fluo\"].plot(xlabel=\"Thioredoxin rate\", title=\"Fluo\", ax=ax2)\n",
    "c[\"Q\"].plot(xlabel=\"Thioredoxin rate\", title=\"Quencher\", ax=ax3)\n",
    "\n",
    "fig.tight_layout()"
   ]
  },
  {
   "cell_type": "code",
   "execution_count": 16,
   "id": "2a809821",
   "metadata": {},
   "outputs": [
    {
     "data": {
      "text/plain": [
       "<AxesSubplot:title={'center':'Mehler reaction'}, xlabel='Thioredoxin rate', ylabel='Rate'>"
      ]
     },
     "execution_count": 16,
     "metadata": {},
     "output_type": "execute_result"
    },
    {
     "data": {
      "image/png": "[encoded data removed]",
      "text/plain": [
       "<Figure size 432x288 with 1 Axes>"
      ]
     },
     "metadata": {
      "needs_background": "light"
     },
     "output_type": "display_data"
    }
   ],
   "source": [
    "v[\"vMehler\"].plot(\n",
    "    title=\"Mehler reaction\",\n",
    "    xlabel=\"Thioredoxin rate\",\n",
    "    ylabel=\"Rate\",\n",
    ")"
   ]
  },
  {
   "cell_type": "code",
   "execution_count": null,
   "id": "7e787b23",
   "metadata": {},
   "outputs": [],
   "source": []
  },
  {
   "cell_type": "code",
   "execution_count": null,
   "id": "b6355442",
   "metadata": {},
   "outputs": [],
   "source": []
  },
  {
   "cell_type": "code",
   "execution_count": null,
   "id": "6ba77d75",
   "metadata": {},
   "outputs": [],
   "source": []
  }
 ],
 "metadata": {
  "kernelspec": {
   "display_name": "Python 3",
   "language": "python",
   "name": "python3"
  },
  "language_info": {
   "codemirror_mode": {
    "name": "ipython",
    "version": 3
   },
   "file_extension": ".py",
   "mimetype": "text/x-python",
   "name": "python",
   "nbconvert_exporter": "python",
   "pygments_lexer": "ipython3",
   "version": "3.9.1"
  },
  "toc": {
   "base_numbering": 1,
   "nav_menu": {},
   "number_sections": true,
   "sideBar": true,
   "skip_h1_title": false,
   "title_cell": "Table of Contents",
   "title_sidebar": "Contents",
   "toc_cell": false,
   "toc_position": {},
   "toc_section_display": true,
   "toc_window_display": false
  }
 },
 "nbformat": 4,
 "nbformat_minor": 5
}
