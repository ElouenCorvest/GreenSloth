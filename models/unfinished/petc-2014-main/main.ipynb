{
 "cells": [
  {
   "attachments": {},
   "cell_type": "markdown",
   "metadata": {},
   "source": [
    "###  Photosynthetic Electron Transport Chain mathematical model (version from 2014)\n",
    "With this Notebook you can reproduce the results presented in \n",
    "\n",
    "Oliver Ebenhöh, Geoffrey Fucile, Giovanni Finazzi, Jean‐David Rochaix and Michel Goldschmidt‐Clermont (2014)\n",
    "\"Short-term acclimation of the photosynthetic electron transfer chain to changing light: a mathematical model\"\n",
    "*Phil Trans Roy Soc B* 369 doi:10.1098/rstb.2013.0223"
   ]
  },
  {
   "cell_type": "code",
   "execution_count": null,
   "metadata": {},
   "outputs": [],
   "source": [
    "from modelbase.ode import Model, Simulator\n",
    "\n",
    "import numpy as np\n",
    "import matplotlib.pyplot as plt\n",
    "\n",
    "from model import get_model, calculate_pHinv"
   ]
  },
  {
   "cell_type": "code",
   "execution_count": null,
   "metadata": {},
   "outputs": [],
   "source": [
    "# Create initial conditions\n",
    "y0 = {\n",
    "    \"PQ\": get_model().parameters[\"PQtot\"],  # oxidised plastoquinone\n",
    "    \"PC\": 0.0202,  # oxidised plastocyan\n",
    "    \"Fd\": 5.0,  # oxidised ferrodoxin\n",
    "    \"ATP\": 0.0,  # stromal concentration of ATP\n",
    "    \"NADPH\": 0.0,  # stromal concentration of NADPH\n",
    "    \"H\": calculate_pHinv(7.2),  # lumenal protons\n",
    "    \"LHC\": 0.9,\n",
    "}"
   ]
  },
  {
   "cell_type": "markdown",
   "metadata": {},
   "source": [
    "The model is complete. Now using Simulator class we can create an object that is 'integratable'. "
   ]
  },
  {
   "cell_type": "markdown",
   "metadata": {},
   "source": [
    "## Reproduce PAM experiment (Fig 1. from the paper, upper pannel)"
   ]
  },
  {
   "cell_type": "code",
   "execution_count": null,
   "metadata": {},
   "outputs": [],
   "source": [
    "s = Simulator(get_model())\n",
    "s.initialise(y0)\n",
    "s.update_parameters({\"Ton\": 270, \"Toff\": 900, \"dT\": 90})\n",
    "\n",
    "t = 0\n",
    "Tmax = 1800\n",
    "while t < Tmax:\n",
    "    # turn on the saturating pulse of light of Tflash length\n",
    "    if t % s.model.get_parameter(\"dT\") == 0:\n",
    "        s.update_parameter(\"pfd\", 5000)\n",
    "        s.simulate(t + 0.8, steps=1000)\n",
    "    else:\n",
    "        # switch on the light except for the dark period\n",
    "        # t+dT-Tflash is the time to the next flash\n",
    "        if t < s.model.get_parameter(\"Ton\") or t > s.model.get_parameter(\"Toff\"):\n",
    "            s.update_parameter(\"pfd\", 0.0001)\n",
    "        else:\n",
    "            # put the actinic light\n",
    "            s.update_parameter(\"pfd\", 100)\n",
    "        new_t = t + s.model.get_parameter(\"dT\") - 0.8\n",
    "        s.simulate(\n",
    "            new_t, **{\"atol\": 1.0e-10}\n",
    "        )  # I needed to make it smaller from the default, otherwise integration problems\n",
    "    t = s.get_time()[-1]"
   ]
  },
  {
   "cell_type": "code",
   "execution_count": null,
   "metadata": {},
   "outputs": [],
   "source": [
    "# Needs to be normalized s.plot_selection('Fluo')\n",
    "f = max(s.get_variable(\"Fluo\"))\n",
    "plt.figure()\n",
    "plt.plot(s.get_time(), s.get_variable(\"Fluo\") / f)\n",
    "plt.xlabel(\"time [s]\")\n",
    "plt.ylim(0, 1)\n",
    "plt.ylabel(\"Fluorescence normalized to Fm\")"
   ]
  },
  {
   "cell_type": "markdown",
   "metadata": {},
   "source": [
    "### Supplementary FigureS1 \n",
    "Simulated temporal evolution of the plastoquinone redox state (red) and the antenna cross‐section of PSII (blue) as a response to light‐induced state transitions."
   ]
  },
  {
   "cell_type": "code",
   "execution_count": null,
   "metadata": {},
   "outputs": [],
   "source": [
    "plt.figure()\n",
    "plt.plot(\n",
    "    s.get_time(),\n",
    "    s.get_variable(\"PQred\") / s.model.get_parameter(\"PQtot\"),\n",
    "    \"r\",\n",
    "    label=\"reduced PQ\",\n",
    ")\n",
    "plt.plot(\n",
    "    s.get_time(), s.get_variable(\"ps2cs\"), \"b\", label=\"relative cross-section of PSII\"\n",
    ")\n",
    "\n",
    "plt.xlabel(\"time [s]\")\n",
    "plt.yticks([0, 0.25, 0.5, 0.6, 0.7, 0.8, 0.9, 1], [0, 25, 50, 60, 70, 80, 90, 100])\n",
    "plt.ylabel(\"% of the reduced PQ\")\n",
    "plt.legend()"
   ]
  },
  {
   "cell_type": "markdown",
   "metadata": {},
   "source": [
    "## Reproduce PAM experiment (Fig 1. from the paper, lower pannel, anoxic conditions)"
   ]
  },
  {
   "cell_type": "code",
   "execution_count": null,
   "metadata": {},
   "outputs": [],
   "source": [
    "# Simulation with switched off oxygen, not light\n",
    "s = Simulator(get_model())\n",
    "s.initialise(y0)\n",
    "s.update_parameters({\"pfd\": 0.001, \"ox\": False, \"Ton\": 270.0, \"Toff\": 900.0, \"dT\": 90.0})\n",
    "\n",
    "t = 0\n",
    "Tmax = 1800\n",
    "while t < Tmax:\n",
    "    # turn on the saturating pulse of light of Tflash length\n",
    "    if t % s.model.get_parameter(\"dT\") == 0:\n",
    "        s.update_parameter(\"pfd\", 5000)\n",
    "        s.simulate(t + 0.8, **{\"atol\": 1.0e-10})\n",
    "    else:\n",
    "        s.update_parameter(\"pfd\", 0.001)\n",
    "        new_t = t + s.model.get_parameter(\"dT\") - 0.8\n",
    "        s.simulate(\n",
    "            new_t, **{\"atol\": 1.0e-11}\n",
    "        )  # I needed to make it smaller from the default, otherwise integration problems\n",
    "    t = s.get_time()[-1]"
   ]
  },
  {
   "cell_type": "code",
   "execution_count": null,
   "metadata": {},
   "outputs": [],
   "source": [
    "# Needs to be normalized s.plot_selection('Fluo')\n",
    "f = max(s.get_variable(\"Fluo\"))\n",
    "plt.figure()\n",
    "plt.plot(s.get_time(), s.get_variable(\"Fluo\") / f)\n",
    "plt.xlabel(\"time [s]\")\n",
    "plt.ylim(0, 1)\n",
    "plt.ylabel(\"Fluorescence normalized to Fm\")"
   ]
  },
  {
   "cell_type": "code",
   "execution_count": null,
   "metadata": {},
   "outputs": [],
   "source": []
  }
 ],
 "metadata": {
  "kernelspec": {
   "display_name": "50-years",
   "language": "python",
   "name": "python3"
  },
  "language_info": {
   "codemirror_mode": {
    "name": "ipython",
    "version": 3
   },
   "file_extension": ".py",
   "mimetype": "text/x-python",
   "name": "python",
   "nbconvert_exporter": "python",
   "pygments_lexer": "ipython3",
   "version": "3.11.0"
  },
  "vscode": {
   "interpreter": {
    "hash": "817542cb5283b7988a6ff699fec34b99b03172d14d5e5c1fe71eeb522022092c"
   }
  }
 },
 "nbformat": 4,
 "nbformat_minor": 2
}
