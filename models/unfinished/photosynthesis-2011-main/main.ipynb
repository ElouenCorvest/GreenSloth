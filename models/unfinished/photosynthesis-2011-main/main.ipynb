{
 "cells": [
  {
   "cell_type": "code",
   "execution_count": null,
   "metadata": {},
   "outputs": [],
   "source": [
    "import matplotlib.pyplot as plt\n",
    "import numpy as np\n",
    "import pandas as pd\n",
    "from concurrent import futures\n",
    "from functools import partial\n",
    "from model import get_model, pH\n",
    "from modelbase.ode import Simulator\n",
    "from tqdm import tqdm\n",
    "from typing import Iterable"
   ]
  },
  {
   "cell_type": "code",
   "execution_count": null,
   "metadata": {},
   "outputs": [],
   "source": [
    "m = get_model()\n",
    "\n",
    "y0 = {\n",
    "    \"A1\": m.parameters[\"D\"] / 2,\n",
    "    \"A2\": m.parameters[\"D\"] / 2,\n",
    "    \"P\": 0,\n",
    "    \"H\": 6.34e-5,\n",
    "    \"N\": 0,\n",
    "    \"T\": 0,\n",
    "}"
   ]
  },
  {
   "cell_type": "code",
   "execution_count": null,
   "metadata": {},
   "outputs": [],
   "source": [
    "s = Simulator(m)\n",
    "s.initialise(y0)\n",
    "s.update_parameter(\"PFD\", 1000)\n",
    "s.simulate(100, atol=1e-12)\n",
    "_ = s.plot()"
   ]
  },
  {
   "cell_type": "code",
   "execution_count": null,
   "metadata": {},
   "outputs": [],
   "source": [
    "def simulate_to_time_at_pfd(pfd: float, t: float) -> dict[str, float]:\n",
    "    s = Simulator(get_model())\n",
    "    s.update_parameter(\"PFD\", pfd)\n",
    "    s.initialise(y0)\n",
    "    s.simulate(t, atol=1e-12, rtol=1e-12)\n",
    "    assert (res := s.get_results_df()) is not None\n",
    "    return res.iloc[-1].to_dict()\n",
    "\n",
    "\n",
    "def scan_at_time(t: float, pfds: Iterable[float]) -> pd.DataFrame:\n",
    "    import sys\n",
    "\n",
    "    fn = partial(simulate_to_time_at_pfd, t=t)\n",
    "\n",
    "    if sys.platform in [\"win32\", \"cygwin\"]:\n",
    "        return pd.DataFrame(tqdm(map(fn, pfds)), index=pfds)  # type: ignore\n",
    "    else:\n",
    "        with futures.ProcessPoolExecutor() as ex:\n",
    "            return pd.DataFrame(tqdm(ex.map(fn, pfds)), index=pfds)  # type: ignore\n",
    "\n",
    "\n",
    "scan = scan_at_time(4000, np.linspace(1e-4, 2000, 100))"
   ]
  },
  {
   "attachments": {},
   "cell_type": "markdown",
   "metadata": {},
   "source": [
    "## Figure 4"
   ]
  },
  {
   "cell_type": "code",
   "execution_count": null,
   "metadata": {},
   "outputs": [],
   "source": [
    "fig, (ax1, ax2, ax3) = plt.subplots(3, 1, sharex=True)\n",
    "\n",
    "pH(scan[\"H\"]).plot(ax=ax1, ylabel=\"pH\")  # type: ignore\n",
    "scan[\"N\"].plot(ax=ax2, label=\"quenching, N\")\n",
    "(scan[\"T\"] / get_model().parameters[\"A\"]).plot(ax=ax3, ylabel=\"ATP (relative)\")\n",
    "\n",
    "ax1.set_ylim(6, 7)\n",
    "ax2.set_ylim(0, 1)\n",
    "ax3.set_ylim(0, 1)\n",
    "ax3.set_xlabel(r\"light intensity $\\mu Em^{-2}s^{-1}$\")\n",
    "plt.show()"
   ]
  },
  {
   "attachments": {},
   "cell_type": "markdown",
   "metadata": {},
   "source": [
    "## Figure 5"
   ]
  },
  {
   "cell_type": "code",
   "execution_count": null,
   "metadata": {},
   "outputs": [],
   "source": [
    "fig, ax = plt.subplots()\n",
    "\n",
    "for j in [600, 800, 1000, 1200]:\n",
    "    m.update_parameter(\"PFD\", j)\n",
    "    s = Simulator(get_model())\n",
    "    s.update_parameter(\"PFD\", j)\n",
    "    s.initialise(y0)\n",
    "    s.simulate(1000, atol=1e-12, rtol=1e-12)\n",
    "    res = s.get_results_df()\n",
    "\n",
    "    plt.plot(res[\"N\"], pH(res[\"H\"]), label=str(j), c=\"r\")\n",
    "\n",
    "\n",
    "ax.plot(\n",
    "    scan[\"N\"],\n",
    "    pH(scan[\"H\"]),  # type: ignore\n",
    "    c=\"k\",\n",
    ")\n",
    "ax.legend()\n",
    "ax.set_xlabel(\"quenching activity, N\")\n",
    "ax.set_ylabel(\"lumen pH\")\n",
    "ax.set_xlim(0, 0.8)\n",
    "ax.set_ylim(3, 7)\n",
    "plt.show()"
   ]
  }
 ],
 "metadata": {
  "kernelspec": {
   "display_name": "50-years",
   "language": "python",
   "name": "python3"
  },
  "language_info": {
   "codemirror_mode": {
    "name": "ipython",
    "version": 3
   },
   "file_extension": ".py",
   "mimetype": "text/x-python",
   "name": "python",
   "nbconvert_exporter": "python",
   "pygments_lexer": "ipython3",
   "version": "3.11.0"
  },
  "vscode": {
   "interpreter": {
    "hash": "817542cb5283b7988a6ff699fec34b99b03172d14d5e5c1fe71eeb522022092c"
   }
  }
 },
 "nbformat": 4,
 "nbformat_minor": 2
}
