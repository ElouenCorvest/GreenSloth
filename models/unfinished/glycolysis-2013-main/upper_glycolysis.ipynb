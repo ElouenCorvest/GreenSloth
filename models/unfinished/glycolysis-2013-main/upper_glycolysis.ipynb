{
 "cells": [
  {
   "cell_type": "markdown",
   "metadata": {},
   "source": [
    "# Toy model of upper glycolysis\n",
    "\n",
    "An example of how to use modelbase v.1.2.\n",
    "We replicated here the toy model of upper glycolysis and used it to show the mca class for the Metabolic Control Analysis. \n",
    "\n",
    "This notebook replicates the results of the toy model introduced for an educational purpose in the Systems Biology textbook by [Edda Klipp et al.](https://books.google.de/books?id=V1ZiEw5eo7EC&printsec=frontcover&hl=pl#v=onepage&q&f=false), results from p. 87)"
   ]
  },
  {
   "cell_type": "markdown",
   "metadata": {},
   "source": [
    "# Model construction\n",
    "## Import packages"
   ]
  },
  {
   "cell_type": "code",
   "execution_count": null,
   "metadata": {},
   "outputs": [],
   "source": [
    "import numpy as np\n",
    "import matplotlib as mpl\n",
    "from mpl_toolkits.mplot3d import Axes3D\n",
    "import matplotlib.pyplot as plt\n",
    "\n",
    "from modelbase.ode import Model, LabelModel, LinearLabelModel, Simulator, mca\n",
    "from modelbase.ode import ratefunctions as rf"
   ]
  },
  {
   "cell_type": "markdown",
   "metadata": {},
   "source": [
    "## define parameters and compounds"
   ]
  },
  {
   "cell_type": "code",
   "execution_count": null,
   "metadata": {},
   "outputs": [],
   "source": [
    "parameters = {\n",
    "    \"k1\": 0.25,\n",
    "    \"k2\": 1,\n",
    "    \"k3\": 1,\n",
    "    \"k3m\": 1,\n",
    "    \"k4\": 1,\n",
    "    \"k5\": 1,\n",
    "    \"k6\": 1,\n",
    "    \"k7\": 2.5,\n",
    "}\n",
    "\n",
    "compounds = {\"GLC\", \"G6P\", \"F6P\", \"FBP\", \"ATP\", \"ADP\"}"
   ]
  },
  {
   "cell_type": "markdown",
   "metadata": {},
   "source": [
    "## Instantiate model"
   ]
  },
  {
   "cell_type": "code",
   "execution_count": null,
   "metadata": {},
   "outputs": [],
   "source": [
    "m = Model(parameters, compounds)\n",
    "\n",
    "# add reactions using defined ratefunctions\n",
    "m.add_reaction(\n",
    "    rate_name=\"v1\",\n",
    "    function=rf.constant,\n",
    "    stoichiometry={\"GLC\": 1},\n",
    "    parameters=[\"k1\"],\n",
    ")\n",
    "m.add_reaction(\n",
    "    rate_name=\"v2\",\n",
    "    function=rf.mass_action_2,\n",
    "    stoichiometry={\"GLC\": -1, \"ATP\": -1, \"G6P\": 1, \"ADP\": 1},\n",
    "    parameters=[\"k2\"],\n",
    ")\n",
    "m.add_reaction(\n",
    "    rate_name=\"v3\",\n",
    "    function=rf.reversible_mass_action_1_1,\n",
    "    stoichiometry={\"G6P\": -1, \"F6P\": 1},\n",
    "    parameters=[\"k3\", \"k3m\"],\n",
    "    reversible=True,\n",
    ")\n",
    "m.add_reaction(\n",
    "    rate_name=\"v4\",\n",
    "    function=rf.mass_action_2,\n",
    "    stoichiometry={\"F6P\": -1, \"ATP\": -1, \"ADP\": 1, \"FBP\": 1},\n",
    "    parameters=[\"k4\"],\n",
    ")\n",
    "m.add_reaction(\n",
    "    rate_name=\"v5\",\n",
    "    function=rf.mass_action_1,\n",
    "    stoichiometry={\"FBP\": -1, \"F6P\": 1},\n",
    "    parameters=[\"k5\"],\n",
    ")\n",
    "m.add_reaction(\n",
    "    rate_name=\"v6\",\n",
    "    function=rf.mass_action_1,\n",
    "    stoichiometry={\"FBP\": -1},\n",
    "    parameters=[\"k6\"],\n",
    ")\n",
    "m.add_reaction(\n",
    "    rate_name=\"v7\",\n",
    "    function=rf.mass_action_1,\n",
    "    stoichiometry={\"ADP\": -1, \"ATP\": 1},\n",
    "    parameters=[\"k7\"],\n",
    ")"
   ]
  },
  {
   "cell_type": "code",
   "execution_count": null,
   "metadata": {},
   "outputs": [],
   "source": [
    "m.get_stoichiometric_df()"
   ]
  },
  {
   "cell_type": "markdown",
   "metadata": {},
   "source": [
    "# Dynamic behaviour of the system"
   ]
  },
  {
   "cell_type": "code",
   "execution_count": null,
   "metadata": {},
   "outputs": [],
   "source": [
    "y0 = {\n",
    "    \"GLC\": 0,\n",
    "    \"G6P\": 0,\n",
    "    \"F6P\": 0,\n",
    "    \"FBP\": 0,\n",
    "    \"ATP\": 0.5,\n",
    "    \"ADP\": 0.5,\n",
    "}\n",
    "\n",
    "s = Simulator(m)\n",
    "s.initialise(y0)\n",
    "t, y = s.simulate(t_end=60, steps=10000)\n",
    "fig, ax = s.plot(xlabel=\"time [au]\", ylabel=\"concentration [au]\")\n",
    "plt.show()"
   ]
  },
  {
   "cell_type": "markdown",
   "metadata": {},
   "source": [
    "# Flux and concentration control coefficients"
   ]
  },
  {
   "cell_type": "code",
   "execution_count": null,
   "metadata": {},
   "outputs": [],
   "source": [
    "parameters = m.get_parameters().keys()\n",
    "\n",
    "crc = mca.get_concentration_response_coefficients_df(\n",
    "    model=m, parameters=parameters, y=y0, normalized=True\n",
    ").loc[:, [\"GLC\", \"G6P\", \"F6P\", \"FBP\", \"ATP\", \"ADP\"]]\n",
    "\n",
    "frc = mca.get_flux_response_coefficients_df(\n",
    "    model=m, parameters=parameters, y=y0, normalized=True\n",
    ")"
   ]
  },
  {
   "cell_type": "code",
   "execution_count": null,
   "metadata": {},
   "outputs": [],
   "source": [
    "fig, axs = mca.plot_multiple(\n",
    "    dfs=[crc, frc],\n",
    "    titles=[\"Concentration Response Coefficients\", \"Flux Response Coefficients\"],\n",
    ")"
   ]
  }
 ],
 "metadata": {
  "kernelspec": {
   "display_name": "Python 3",
   "language": "python",
   "name": "python3"
  },
  "language_info": {
   "codemirror_mode": {
    "name": "ipython",
    "version": 3
   },
   "file_extension": ".py",
   "mimetype": "text/x-python",
   "name": "python",
   "nbconvert_exporter": "python",
   "pygments_lexer": "ipython3",
   "version": "3.8.5"
  },
  "toc": {
   "base_numbering": 1,
   "nav_menu": {},
   "number_sections": true,
   "sideBar": true,
   "skip_h1_title": false,
   "title_cell": "Table of Contents",
   "title_sidebar": "Contents",
   "toc_cell": false,
   "toc_position": {},
   "toc_section_display": true,
   "toc_window_display": false
  }
 },
 "nbformat": 4,
 "nbformat_minor": 2
}
