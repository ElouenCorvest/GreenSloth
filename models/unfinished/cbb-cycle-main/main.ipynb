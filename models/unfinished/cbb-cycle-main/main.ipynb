{
 "cells": [
  {
   "cell_type": "markdown",
   "metadata": {
    "papermill": {
     "duration": 0.015016,
     "end_time": "2020-04-17T09:35:55.684986",
     "exception": false,
     "start_time": "2020-04-17T09:35:55.669970",
     "status": "completed"
    },
    "tags": []
   },
   "source": [
    "# Calvin-Benson-Bassham cycle model"
   ]
  },
  {
   "cell_type": "code",
   "execution_count": null,
   "metadata": {
    "execution": {
     "iopub.execute_input": "2020-04-17T09:35:55.712132Z",
     "iopub.status.busy": "2020-04-17T09:35:55.711265Z",
     "iopub.status.idle": "2020-04-17T09:35:56.120487Z",
     "shell.execute_reply": "2020-04-17T09:35:56.120053Z"
    },
    "papermill": {
     "duration": 0.422879,
     "end_time": "2020-04-17T09:35:56.120589",
     "exception": false,
     "start_time": "2020-04-17T09:35:55.697710",
     "status": "completed"
    },
    "tags": []
   },
   "outputs": [],
   "source": [
    "import matplotlib.pyplot as plt\n",
    "import numpy as np\n",
    "from model import get_model\n",
    "from modelbase.ode import Simulator\n",
    "from modelbase.utils.plotting import plot_grid"
   ]
  },
  {
   "cell_type": "code",
   "execution_count": null,
   "metadata": {
    "execution": {
     "iopub.execute_input": "2020-04-17T09:35:56.424299Z",
     "iopub.status.busy": "2020-04-17T09:35:56.423214Z",
     "iopub.status.idle": "2020-04-17T09:35:57.363360Z",
     "shell.execute_reply": "2020-04-17T09:35:57.363773Z"
    },
    "papermill": {
     "duration": 0.958198,
     "end_time": "2020-04-17T09:35:57.363877",
     "exception": false,
     "start_time": "2020-04-17T09:35:56.405679",
     "status": "completed"
    },
    "tags": []
   },
   "outputs": [],
   "source": [
    "y0 = {\n",
    "    \"PGA\": 0.6437280277346407,\n",
    "    \"BPGA\": 0.001360476366780556,\n",
    "    \"GAP\": 0.011274125311289358,\n",
    "    \"DHAP\": 0.24803073890728228,\n",
    "    \"FBP\": 0.019853938009873073,\n",
    "    \"F6P\": 1.0950701164493861,\n",
    "    \"G6P\": 2.5186612678035734,\n",
    "    \"G1P\": 0.14608235353185037,\n",
    "    \"SBP\": 0.09193353265673603,\n",
    "    \"S7P\": 0.23124426886012006,\n",
    "    \"E4P\": 0.028511831060903877,\n",
    "    \"X5P\": 0.036372985623662736,\n",
    "    \"R5P\": 0.06092475016463224,\n",
    "    \"RUBP\": 0.24993009253928708,\n",
    "    \"RU5P\": 0.02436989993734177,\n",
    "    \"ATP\": 0.43604115800259613,\n",
    "}\n",
    "\n",
    "s = Simulator(get_model())\n",
    "s.initialise(y0)\n",
    "t, y = s.simulate(100_000)\n",
    "groups = [\n",
    "    [\"G6P\", \"PGA\", \"F6P\", \"S7P\"],\n",
    "    [\"RU5P\", \"X5P\", \"SBP\", \"G1P\"],\n",
    "    [\"ATP\", \"DHAP\", \"RUBP\", \"R5P\"],\n",
    "    [\"BPGA\", \"E4P\", \"FBP\", \"GAP\"],\n",
    "]\n",
    "\n",
    "s.plot_grid(\n",
    "    compound_groups=groups,\n",
    "    ncols=2,\n",
    "    sharex=True,\n",
    "    sharey=False,\n",
    "    xlabels=\"Time [au]\",\n",
    "    ylabels=\"Concentration [mM]\",\n",
    "    figure_title=\"Calvin cycle substrate concentrations\",\n",
    ")\n",
    "plt.show()"
   ]
  },
  {
   "cell_type": "code",
   "execution_count": null,
   "metadata": {
    "execution": {
     "iopub.execute_input": "2020-04-17T09:35:57.390016Z",
     "iopub.status.busy": "2020-04-17T09:35:57.389336Z",
     "iopub.status.idle": "2020-04-17T09:36:26.152526Z",
     "shell.execute_reply": "2020-04-17T09:36:26.150117Z"
    },
    "papermill": {
     "duration": 28.777747,
     "end_time": "2020-04-17T09:36:26.152692",
     "exception": false,
     "start_time": "2020-04-17T09:35:57.374945",
     "status": "completed"
    },
    "tags": []
   },
   "outputs": [],
   "source": [
    "external_phosphate_scan = s.parameter_scan(\n",
    "    parameter_name=\"Phosphate_pool_ext\",\n",
    "    parameter_values=np.linspace(0.1, 2, 128),\n",
    ")"
   ]
  },
  {
   "cell_type": "code",
   "execution_count": null,
   "metadata": {},
   "outputs": [],
   "source": [
    "result = external_phosphate_scan.copy()\n",
    "time = result.index.values\n",
    "result[\"BPGA\"] *= 50\n",
    "\n",
    "plot_groups = [(time, result.loc[:, i].values) for i in groups]\n",
    "legend_groups = [[i if i != \"BPGA\" else \"50x BPGA\" for i in j] for j in groups]\n",
    "\n",
    "fig, ax = plot_grid(\n",
    "    plot_groups=plot_groups,\n",
    "    legend_groups=legend_groups,\n",
    "    ncols=2,\n",
    "    sharey=False,\n",
    "    xlabels=\"External orthophosphate [mM]\",\n",
    "    ylabels=\"Concentration [mM]\",\n",
    ")"
   ]
  },
  {
   "cell_type": "markdown",
   "metadata": {
    "papermill": {
     "duration": 0.033946,
     "end_time": "2020-04-17T09:36:26.219896",
     "exception": false,
     "start_time": "2020-04-17T09:36:26.185950",
     "status": "completed"
    },
    "tags": []
   },
   "source": [
    "## Dynamic NADPH variant"
   ]
  },
  {
   "cell_type": "code",
   "execution_count": null,
   "metadata": {},
   "outputs": [],
   "source": [
    "def NADP_mod(NADPH, N_total):\n",
    "    return [N_total - NADPH]\n",
    "\n",
    "\n",
    "def v1(\n",
    "    RUBP,\n",
    "    PGA,\n",
    "    FBP,\n",
    "    SBP,\n",
    "    P,\n",
    "    NADPH,\n",
    "    V1,\n",
    "    Km1,\n",
    "    Ki11,\n",
    "    Ki12,\n",
    "    Ki13,\n",
    "    Ki14,\n",
    "    Ki15,\n",
    "):\n",
    "    return (V1 * RUBP) / (\n",
    "        RUBP\n",
    "        + Km1\n",
    "        * (1 + (PGA / Ki11) + (FBP / Ki12) + (SBP / Ki13) + (P / Ki14) + (NADPH / Ki15))\n",
    "    )\n",
    "\n",
    "\n",
    "def v3(BPGA, NADPH, GAP, P_i, NADP, protonsStroma, kRE, q3):\n",
    "    return kRE * ((NADPH * BPGA * protonsStroma) - (GAP * NADP * P_i) / q3)\n",
    "\n",
    "\n",
    "def vNADPH(NADP, Vmax_NADPH, Km_NADPH):\n",
    "    return (Vmax_NADPH * NADP) / (Km_NADPH + NADP)"
   ]
  },
  {
   "cell_type": "code",
   "execution_count": null,
   "metadata": {
    "execution": {
     "iopub.execute_input": "2020-04-17T09:36:26.319993Z",
     "iopub.status.busy": "2020-04-17T09:36:26.315725Z",
     "iopub.status.idle": "2020-04-17T09:36:26.322305Z",
     "shell.execute_reply": "2020-04-17T09:36:26.323712Z"
    },
    "papermill": {
     "duration": 0.06949,
     "end_time": "2020-04-17T09:36:26.323980",
     "exception": false,
     "start_time": "2020-04-17T09:36:26.254490",
     "status": "completed"
    },
    "tags": []
   },
   "outputs": [],
   "source": [
    "m2 = get_model()\n",
    "m2.remove_reactions([\"v1\", \"v3\"])\n",
    "m2.remove_parameters([\"NADPH_pool\", \"NADP_pool\"])\n",
    "\n",
    "m2.add_parameters({\"Vmax_NADPH\": 2.816, \"Km_NADPH\": 0.19})\n",
    "m2.add_compound(\"NADPH\")\n",
    "\n",
    "\n",
    "m2.add_algebraic_module(\n",
    "    module_name=\"NADH_mod\",\n",
    "    function=NADP_mod,\n",
    "    compounds=[\"NADPH\"],\n",
    "    derived_compounds=[\"NADP\"],\n",
    "    parameters=[\"N_total\"],\n",
    ")\n",
    "\n",
    "\n",
    "m2.add_reaction(\n",
    "    rate_name=\"v1\",\n",
    "    function=v1,\n",
    "    stoichiometry={\"RUBP\": -1, \"PGA\": 2},\n",
    "    modifiers=[\"PGA\", \"FBP\", \"SBP\", \"Phosphate_pool\", \"NADPH\"],\n",
    "    parameters=[\n",
    "        \"Vmax_1\",\n",
    "        \"Km_1\",\n",
    "        \"Ki_1_1\",\n",
    "        \"Ki_1_2\",\n",
    "        \"Ki_1_3\",\n",
    "        \"Ki_1_4\",\n",
    "        \"Ki_1_5\",\n",
    "    ],\n",
    ")\n",
    "\n",
    "\n",
    "m2.add_reaction(\n",
    "    rate_name=\"v3\",\n",
    "    function=v3,\n",
    "    stoichiometry={\"BPGA\": -1, \"NADPH\": -1, \"GAP\": 1},\n",
    "    modifiers=[\"Phosphate_pool\", \"NADP\"],\n",
    "    parameters=[\n",
    "        \"proton_pool_stroma\",\n",
    "        \"k_rapid_eq\",\n",
    "        \"q3\",\n",
    "    ],\n",
    "    reversible=True,\n",
    ")\n",
    "\n",
    "m2.add_reaction(\n",
    "    rate_name=\"vNADPH\",\n",
    "    function=vNADPH,\n",
    "    stoichiometry={\"NADPH\": 1},\n",
    "    modifiers=[\"NADP\"],\n",
    "    parameters=[\"Vmax_NADPH\", \"Km_NADPH\"],\n",
    ")"
   ]
  },
  {
   "cell_type": "code",
   "execution_count": null,
   "metadata": {
    "execution": {
     "iopub.execute_input": "2020-04-17T09:36:26.394808Z",
     "iopub.status.busy": "2020-04-17T09:36:26.393936Z",
     "iopub.status.idle": "2020-04-17T09:36:27.737172Z",
     "shell.execute_reply": "2020-04-17T09:36:27.736421Z"
    },
    "papermill": {
     "duration": 1.383967,
     "end_time": "2020-04-17T09:36:27.737375",
     "exception": false,
     "start_time": "2020-04-17T09:36:26.353408",
     "status": "completed"
    },
    "tags": []
   },
   "outputs": [],
   "source": [
    "y0_2 = {\n",
    "    \"PGA\": 0.599645270373,\n",
    "    \"BPGA\": 0.000907499521924,\n",
    "    \"GAP\": 0.011839616887,\n",
    "    \"DHAP\": 0.260471552645,\n",
    "    \"FBP\": 0.021895569623,\n",
    "    \"F6P\": 1.2456290719,\n",
    "    \"G6P\": 2.86494686535,\n",
    "    \"G1P\": 0.166166918189,\n",
    "    \"SBP\": 0.1120019621,\n",
    "    \"S7P\": 0.233467059202,\n",
    "    \"E4P\": 0.0330766864679,\n",
    "    \"X5P\": 0.0374527459593,\n",
    "    \"R5P\": 0.0627333486958,\n",
    "    \"RUBP\": 0.261466058509,\n",
    "    \"RU5P\": 0.0250933393445,\n",
    "    \"ATP\": 0.414993685612,\n",
    "    \"NADPH\": 0.281543418344,\n",
    "}\n",
    "\n",
    "s2 = Simulator(m2)\n",
    "s2.initialise(y0_2)\n",
    "t, y = s2.simulate(200)\n",
    "groups_nadph = [\n",
    "    [\"G6P\", \"PGA\", \"F6P\", \"S7P\"],\n",
    "    [\"RU5P\", \"X5P\", \"SBP\", \"G1P\"],\n",
    "    [\"ATP\", \"DHAP\", \"RUBP\", \"R5P\", \"NADPH\"],\n",
    "    [\"BPGA\", \"E4P\", \"FBP\", \"GAP\"],\n",
    "]\n",
    "\n",
    "s2.plot_grid(\n",
    "    compound_groups=groups,\n",
    "    ncols=2,\n",
    "    sharex=True,\n",
    "    sharey=False,\n",
    "    xlabels=\"Time [au]\",\n",
    "    ylabels=\"Concentration [mM]\",\n",
    "    figure_title=\"Calvin cycle substrate concentrations\",\n",
    ")\n",
    "plt.show()"
   ]
  },
  {
   "cell_type": "code",
   "execution_count": null,
   "metadata": {
    "execution": {
     "iopub.execute_input": "2020-04-17T09:36:27.791376Z",
     "iopub.status.busy": "2020-04-17T09:36:27.787838Z",
     "iopub.status.idle": "2020-04-17T09:36:49.840604Z",
     "shell.execute_reply": "2020-04-17T09:36:49.841009Z"
    },
    "papermill": {
     "duration": 22.080599,
     "end_time": "2020-04-17T09:36:49.841117",
     "exception": false,
     "start_time": "2020-04-17T09:36:27.760518",
     "status": "completed"
    },
    "tags": []
   },
   "outputs": [],
   "source": [
    "external_phosphate_scan_2 = s2.parameter_scan(\n",
    "    parameter_name=\"Phosphate_pool_ext\",\n",
    "    parameter_values=np.linspace(0.1, 2, 128),\n",
    ")"
   ]
  },
  {
   "cell_type": "code",
   "execution_count": null,
   "metadata": {},
   "outputs": [],
   "source": [
    "result = external_phosphate_scan_2.copy()\n",
    "time = result.index.values\n",
    "result[\"BPGA\"] *= 50\n",
    "\n",
    "plot_groups = [(time, result.loc[:, i].values) for i in groups_nadph]\n",
    "legend_groups = [[i if i != \"BPGA\" else \"50x BPGA\" for i in j] for j in groups_nadph]\n",
    "\n",
    "fig, ax = plot_grid(\n",
    "    plot_groups=plot_groups,\n",
    "    legend_groups=legend_groups,\n",
    "    ncols=2,\n",
    "    sharey=False,\n",
    "    xlabels=\"External orthophosphate [mM]\",\n",
    "    ylabels=\"Concentration [mM]\",\n",
    ")"
   ]
  },
  {
   "cell_type": "code",
   "execution_count": null,
   "metadata": {},
   "outputs": [],
   "source": []
  }
 ],
 "metadata": {
  "kernelspec": {
   "display_name": "py310",
   "language": "python",
   "name": "python3"
  },
  "language_info": {
   "codemirror_mode": {
    "name": "ipython",
    "version": 3
   },
   "file_extension": ".py",
   "mimetype": "text/x-python",
   "name": "python",
   "nbconvert_exporter": "python",
   "pygments_lexer": "ipython3",
   "version": "3.10.9"
  },
  "papermill": {
   "duration": 55.269964,
   "end_time": "2020-04-17T09:36:50.000516",
   "environment_variables": {},
   "exception": null,
   "input_path": "calvin-benson-bassham.ipynb",
   "output_path": "calvin-benson-bassham.ipynb",
   "parameters": {},
   "start_time": "2020-04-17T09:35:54.730552",
   "version": "2.1.0"
  },
  "toc": {
   "base_numbering": 1,
   "nav_menu": {},
   "number_sections": true,
   "sideBar": true,
   "skip_h1_title": false,
   "title_cell": "Table of Contents",
   "title_sidebar": "Contents",
   "toc_cell": false,
   "toc_position": {},
   "toc_section_display": true,
   "toc_window_display": false
  },
  "vscode": {
   "interpreter": {
    "hash": "efa8b17b9e33237cbcac2860a8fba36b27177a72c7cfe842f3a84d2139868231"
   }
  }
 },
 "nbformat": 4,
 "nbformat_minor": 2
}
